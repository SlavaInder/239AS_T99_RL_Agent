{
 "cells": [
  {
   "cell_type": "markdown",
   "metadata": {},
   "source": [
    "# Notebook notes"
   ]
  },
  {
   "cell_type": "markdown",
   "metadata": {},
   "source": [
    "This notebook is for testing and training of CNN-based DQN\n",
    "\n",
    "Each member of \"options\" list is a State99 \n",
    "\n",
    "what happens after call step?\n",
    "\n",
    "1. state of the player controlled by Agent is updated. It becomes exactly as one passed in \"aciton\" dictionary\n",
    "2. states of all other players are updated\n",
    "3. after all of the updates happened, *.step() calculates all options for the NEXT step (for pieces it holds at hand and in swap). These options, along with rewards they will trigger, are returned."
   ]
  },
  {
   "cell_type": "markdown",
   "metadata": {},
   "source": [
    "# Import libs"
   ]
  },
  {
   "cell_type": "markdown",
   "metadata": {},
   "source": [
    "**setup autoreload**"
   ]
  },
  {
   "cell_type": "code",
   "execution_count": 1,
   "metadata": {},
   "outputs": [],
   "source": [
    "%load_ext autoreload\n",
    "%autoreload 2"
   ]
  },
  {
   "cell_type": "markdown",
   "metadata": {},
   "source": [
    "**configure system path**"
   ]
  },
  {
   "cell_type": "code",
   "execution_count": 2,
   "metadata": {},
   "outputs": [],
   "source": [
    "import os\n",
    "import sys\n",
    "\n",
    "# list directories where packages are stored\n",
    "# note that the parent directory of te repo is added automatically\n",
    "GYM_FOLDER = \"gym-t99\"\n",
    "\n",
    "# get this notebook's current working directory\n",
    "nb_cwd = os.getcwd()\n",
    "# get name of its parent directory\n",
    "nb_parent = os.path.dirname(nb_cwd)\n",
    "# add packages to path\n",
    "sys.path.insert(len(sys.path), nb_parent)\n",
    "sys.path.insert(len(sys.path), os.path.join(nb_parent, GYM_FOLDER))"
   ]
  },
  {
   "cell_type": "markdown",
   "metadata": {},
   "source": [
    "**import custom packages**\n",
    "\n",
    "Use this code if you have not yet loaded gym_t99"
   ]
  },
  {
   "cell_type": "code",
   "execution_count": 3,
   "metadata": {},
   "outputs": [
    {
     "name": "stdout",
     "output_type": "stream",
     "text": [
      "pygame 2.0.1 (SDL 2.0.14, Python 3.6.13)\n",
      "Hello from the pygame community. https://www.pygame.org/contribute.html\n"
     ]
    }
   ],
   "source": [
    "import gym\n",
    "registered = gym.envs.registration.registry.env_specs.copy()\n",
    "\n",
    "import gym_t99\n",
    "import t_net"
   ]
  },
  {
   "cell_type": "markdown",
   "metadata": {},
   "source": [
    "**import custom packages**\n",
    "\n",
    "Use this code if you have already loaded gym_t99, but now you introduced changes and want to re-load it again"
   ]
  },
  {
   "cell_type": "code",
   "execution_count": 4,
   "metadata": {},
   "outputs": [
    {
     "name": "stdout",
     "output_type": "stream",
     "text": [
      "Remove basic-v0 from registry\n",
      "Remove t99-v0 from registry\n",
      "Remove t99sc-v0 from registry\n"
     ]
    },
    {
     "data": {
      "text/plain": [
       "<module 'gym_t99' from '/Users/surajvathsa/Projects/DL-stuff/RL/239AS_T99_RL_Agent/gym-t99/gym_t99/__init__.py'>"
      ]
     },
     "execution_count": 4,
     "metadata": {},
     "output_type": "execute_result"
    }
   ],
   "source": [
    "import imp\n",
    "\n",
    "# this code removes environment from gym's registry\n",
    "env_dict = gym.envs.registration.registry.env_specs.copy()\n",
    "for env in env_dict:\n",
    "    if env not in registered:\n",
    "        print(\"Remove {} from registry\".format(env))\n",
    "        del gym.envs.registration.registry.env_specs[env]\n",
    "\n",
    "imp.reload(gym_t99)"
   ]
  },
  {
   "cell_type": "code",
   "execution_count": 5,
   "metadata": {},
   "outputs": [
    {
     "data": {
      "text/plain": [
       "<module 't_net' from '/Users/surajvathsa/Projects/DL-stuff/RL/239AS_T99_RL_Agent/t_net/__init__.py'>"
      ]
     },
     "execution_count": 5,
     "metadata": {},
     "output_type": "execute_result"
    }
   ],
   "source": [
    "import imp\n",
    "imp.reload(t_net)"
   ]
  },
  {
   "cell_type": "markdown",
   "metadata": {},
   "source": [
    "**import out-of-the-box packages**"
   ]
  },
  {
   "cell_type": "code",
   "execution_count": 6,
   "metadata": {},
   "outputs": [
    {
     "name": "stdout",
     "output_type": "stream",
     "text": [
      "cpu\n"
     ]
    }
   ],
   "source": [
    "# import matplotlib\n",
    "import matplotlib.pyplot as plt\n",
    "# configure matplotlib\n",
    "%matplotlib inline\n",
    "\n",
    "import numpy as np\n",
    "from copy import deepcopy\n",
    "\n",
    "# import torch\n",
    "import torch\n",
    "from torch import nn\n",
    "\n",
    "# configure torch\n",
    "device = torch.device(\"cuda\" if torch.cuda.is_available() else \"cpu\")\n",
    "print(device)"
   ]
  },
  {
   "cell_type": "markdown",
   "metadata": {},
   "source": [
    "# Testground"
   ]
  },
  {
   "cell_type": "code",
   "execution_count": 7,
   "metadata": {},
   "outputs": [],
   "source": [
    "custom_gym = gym.make('gym_t99:t99sc-v0', num_players = 2, enemy=None)"
   ]
  },
  {
   "cell_type": "code",
   "execution_count": 8,
   "metadata": {},
   "outputs": [],
   "source": [
    "custom_gym.reset()"
   ]
  },
  {
   "cell_type": "code",
   "execution_count": 9,
   "metadata": {},
   "outputs": [
    {
     "name": "stdout",
     "output_type": "stream",
     "text": [
      "[[10 10 10  0  0  0  0  0  0  0  0  0  0 10 10 10]\n",
      " [10 10 10  0  0  0  0  0  2  2  0  0  0 10 10 10]\n",
      " [10 10 10  0  0  0  0  0  2  0  0  0  0 10 10 10]\n",
      " [10 10 10  0  0  0  0  0  2  0  0  0  0 10 10 10]\n",
      " [10 10 10  0  0  0  0  0  0  0  0  0  0 10 10 10]\n",
      " [10 10 10  0  0  0  0  0  0  0  0  0  0 10 10 10]\n",
      " [10 10 10  0  0  0  0  0  0  0  0  0  0 10 10 10]\n",
      " [10 10 10  0  0  0  0  0  0  0  0  0  0 10 10 10]\n",
      " [10 10 10  0  0  0  0  0  0  0  0  0  0 10 10 10]\n",
      " [10 10 10  0  0  0  0  0  0  0  0  0  0 10 10 10]\n",
      " [10 10 10  0  0  0  0  0  0  0  0  0  0 10 10 10]\n",
      " [10 10 10  0  0  0  0  0  0  0  0  0  0 10 10 10]\n",
      " [10 10 10  0  0  0  0  0  0  0  0  0  0 10 10 10]\n",
      " [10 10 10  0  0  0  0  0  0  0  0  0  0 10 10 10]\n",
      " [10 10 10  0  0  0  0  0  0  0  0  0  0 10 10 10]\n",
      " [10 10 10  0  0  0  0  0  0  0  0  0  0 10 10 10]\n",
      " [10 10 10  0  0  0  0  0  0  0  0  0  0 10 10 10]\n",
      " [10 10 10  0  0  0  0  0  0  0  0  0  0 10 10 10]\n",
      " [10 10 10  0  0  0  0  0  0  0  0  0  0 10 10 10]\n",
      " [10 10 10  0  0  0  0  0  0  0  0  0  0 10 10 10]\n",
      " [10 10 10  0  0  0  0  0  0  0  0  0  0 10 10 10]\n",
      " [10 10 10  0  0  0  0  0  0  0  0  0  0 10 10 10]\n",
      " [10 10 10  0  0  0  0  0  0  0  0  0  0 10 10 10]\n",
      " [10 10 10  0  0  0  0  0  0  0  0  0  0 10 10 10]\n",
      " [10 10 10  0  0  0  0  0  0  0  0  0  0 10 10 10]\n",
      " [10 10 10 10 10 10 10 10 10 10 10 10 10 10 10 10]\n",
      " [10 10 10 10 10 10 10 10 10 10 10 10 10 10 10 10]\n",
      " [10 10 10 10 10 10 10 10 10 10 10 10 10 10 10 10]]\n"
     ]
    }
   ],
   "source": [
    "frame = custom_gym.render(mode=\"debug\")\n",
    "# frame[0][-4, 2:6] = 1\n",
    "print(frame[0])"
   ]
  },
  {
   "cell_type": "markdown",
   "metadata": {},
   "source": [
    "# NN training"
   ]
  },
  {
   "cell_type": "code",
   "execution_count": 10,
   "metadata": {},
   "outputs": [],
   "source": [
    "# initialize net\n",
    "my_net = t_net.FCNetMultiplayer(2)\n",
    "# initialize features\n",
    "my_features = t_net.calculate_linear_features_multiplayer"
   ]
  },
  {
   "cell_type": "code",
   "execution_count": 11,
   "metadata": {},
   "outputs": [],
   "source": [
    "agent = t_net.AgentSCAlt(env=custom_gym,\n",
    "                      discount = 0.99,\n",
    "                      net = my_net,\n",
    "                      learning_rate = 0.001,\n",
    "                      criterion = nn.MSELoss(),\n",
    "                      device=device,\n",
    "                      features = my_features)"
   ]
  },
  {
   "cell_type": "code",
   "execution_count": null,
   "metadata": {},
   "outputs": [
    {
     "name": "stdout",
     "output_type": "stream",
     "text": [
      "calculating step 0\n",
      "target net updated\n",
      "opponent net updated\n",
      "calculating step 1000\n",
      "calculating step 2000\n",
      "target net updated\n",
      "calculating step 3000\n",
      "calculating step 4000\n",
      "target net updated\n",
      "opponent net updated\n"
     ]
    }
   ],
   "source": [
    "agent.train(steps=10000, is_multiplayer=True)"
   ]
  },
  {
   "cell_type": "code",
   "execution_count": null,
   "metadata": {},
   "outputs": [],
   "source": [
    "r_hist = agent.cumulative_rewards\n",
    "step_hist = agent.steps_per_episode"
   ]
  },
  {
   "cell_type": "code",
   "execution_count": 14,
   "metadata": {},
   "outputs": [
    {
     "data": {
      "text/plain": [
       "Text(0, 0.5, 'Number of steps')"
      ]
     },
     "execution_count": 14,
     "metadata": {},
     "output_type": "execute_result"
    },
    {
     "data": {
      "image/png": "[encoded data removed]",
      "text/plain": [
       "<Figure size 720x360 with 2 Axes>"
      ]
     },
     "metadata": {
      "needs_background": "light"
     },
     "output_type": "display_data"
    }
   ],
   "source": [
    "episodes = np.arange(len(r_hist))\n",
    "fig, (ax1, ax2) = plt.subplots(1, 2, figsize=(10,5))\n",
    "\n",
    "fig.suptitle(\"DQN training\")\n",
    "ax1.plot(episodes, r_hist, \"-b\")\n",
    "ax1.grid()\n",
    "ax1.title.set_text(\"Reward history\")\n",
    "ax1.set_xlabel('Episode')\n",
    "ax1.set_ylabel('Reward')\n",
    "ax2.plot(episodes, step_hist, \"-b\")\n",
    "ax2.grid()\n",
    "ax2.title.set_text(\"Gameplay length\")\n",
    "ax2.set_xlabel('Episode')\n",
    "ax2.set_ylabel('Number of steps')\n",
    "# plt.savefig(\"plots/cnngaamma99eps1.png\", dpi=200)"
   ]
  },
  {
   "cell_type": "code",
   "execution_count": 16,
   "metadata": {
    "scrolled": false
   },
   "outputs": [],
   "source": [
    "agent.save_state(path=\"agents/CNN_plus_clear_lines.pth\")"
   ]
  }
 ],
 "metadata": {
  "kernelspec": {
   "display_name": "RL",
   "language": "python",
   "name": "rl"
  },
  "language_info": {
   "codemirror_mode": {
    "name": "ipython",
    "version": 3
   },
   "file_extension": ".py",
   "mimetype": "text/x-python",
   "name": "python",
   "nbconvert_exporter": "python",
   "pygments_lexer": "ipython3",
   "version": "3.6.13"
  },
  "varInspector": {
   "cols": {
    "lenName": 16,
    "lenType": 16,
    "lenVar": 40
   },
   "kernels_config": {
    "python": {
     "delete_cmd_postfix": "",
     "delete_cmd_prefix": "del ",
     "library": "var_list.py",
     "varRefreshCmd": "print(var_dic_list())"
    },
    "r": {
     "delete_cmd_postfix": ") ",
     "delete_cmd_prefix": "rm(",
     "library": "var_list.r",
     "varRefreshCmd": "cat(var_dic_list()) "
    }
   },
   "types_to_exclude": [
    "module",
    "function",
    "builtin_function_or_method",
    "instance",
    "_Feature"
   ],
   "window_display": false
  }
 },
 "nbformat": 4,
 "nbformat_minor": 2
}
