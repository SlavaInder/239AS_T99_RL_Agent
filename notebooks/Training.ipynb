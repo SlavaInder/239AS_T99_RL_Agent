{
 "cells": [
  {
   "cell_type": "markdown",
   "metadata": {},
   "source": [
    "# Notebook notes"
   ]
  },
  {
   "cell_type": "markdown",
   "metadata": {},
   "source": [
    "This notebook is for testing training"
   ]
  },
  {
   "cell_type": "markdown",
   "metadata": {},
   "source": [
    "# Import libs"
   ]
  },
  {
   "cell_type": "markdown",
   "metadata": {},
   "source": [
    "**setup autoreload**"
   ]
  },
  {
   "cell_type": "code",
   "execution_count": 1,
   "metadata": {},
   "outputs": [],
   "source": [
    "%load_ext autoreload\n",
    "%autoreload 2"
   ]
  },
  {
   "cell_type": "markdown",
   "metadata": {},
   "source": [
    "**configure system path**"
   ]
  },
  {
   "cell_type": "code",
   "execution_count": 2,
   "metadata": {},
   "outputs": [],
   "source": [
    "import os\n",
    "import sys\n",
    "\n",
    "# list directories where packages are stored\n",
    "# note that the parent directory of te repo is added automatically\n",
    "GYM_FOLDER = \"gym-t99\"\n",
    "\n",
    "# get this notebook's current working directory\n",
    "nb_cwd = os.getcwd()\n",
    "# get name of its parent directory\n",
    "nb_parent = os.path.dirname(nb_cwd)\n",
    "# add packages to path\n",
    "sys.path.insert(len(sys.path), nb_parent)\n",
    "sys.path.insert(len(sys.path), os.path.join(nb_parent, GYM_FOLDER))"
   ]
  },
  {
   "cell_type": "markdown",
   "metadata": {},
   "source": [
    "**import custom packages**\n",
    "\n",
    "Use this code if you have not yet loaded gym_t99"
   ]
  },
  {
   "cell_type": "code",
   "execution_count": 3,
   "metadata": {},
   "outputs": [
    {
     "name": "stdout",
     "output_type": "stream",
     "text": [
      "pygame 2.0.1 (SDL 2.0.14, Python 3.8.8)\n",
      "Hello from the pygame community. https://www.pygame.org/contribute.html\n"
     ]
    }
   ],
   "source": [
    "import gym\n",
    "registered = gym.envs.registration.registry.env_specs.copy()\n",
    "\n",
    "import gym_t99\n",
    "import t_net"
   ]
  },
  {
   "cell_type": "markdown",
   "metadata": {},
   "source": [
    "**import custom packages**\n",
    "\n",
    "Use this code if you have already loaded gym_t99, but now you introduced changes and want to re-load it again"
   ]
  },
  {
   "cell_type": "code",
   "execution_count": 7,
   "metadata": {},
   "outputs": [
    {
     "name": "stdout",
     "output_type": "stream",
     "text": [
      "Remove basic-v0 from registry\n",
      "Remove t99-v0 from registry\n"
     ]
    },
    {
     "data": {
      "text/plain": [
       "<module 'gym_t99' from '/Users/ianconceicao/239AS_T99_RL_Agent/gym-t99/gym_t99/__init__.py'>"
      ]
     },
     "execution_count": 7,
     "metadata": {},
     "output_type": "execute_result"
    }
   ],
   "source": [
    "import imp\n",
    "\n",
    "# this code removes environment from gym's registry\n",
    "env_dict = gym.envs.registration.registry.env_specs.copy()\n",
    "for env in env_dict:\n",
    "    if env not in registered:\n",
    "        print(\"Remove {} from registry\".format(env))\n",
    "        del gym.envs.registration.registry.env_specs[env]\n",
    "\n",
    "imp.reload(gym_t99)"
   ]
  },
  {
   "cell_type": "markdown",
   "metadata": {},
   "source": [
    "**import out-of-the-box packages**"
   ]
  },
  {
   "cell_type": "code",
   "execution_count": 4,
   "metadata": {},
   "outputs": [],
   "source": [
    "# import matplotlib\n",
    "import matplotlib as plt\n",
    "# configure matplotlib\n",
    "%matplotlib inline"
   ]
  },
  {
   "cell_type": "code",
   "execution_count": 4,
   "metadata": {},
   "outputs": [],
   "source": [
    "import numpy as np\n",
    "from copy import deepcopy"
   ]
  },
  {
   "cell_type": "code",
   "execution_count": 6,
   "metadata": {},
   "outputs": [
    {
     "name": "stdout",
     "output_type": "stream",
     "text": [
      "cpu\n"
     ]
    }
   ],
   "source": [
    "# import torch\n",
    "import torch\n",
    "from torch import nn\n",
    "\n",
    "# configure torch\n",
    "device = torch.device(\"cuda\" if torch.cuda.is_available() else \"cpu\")\n",
    "print(device)"
   ]
  },
  {
   "cell_type": "markdown",
   "metadata": {},
   "source": [
    "# Workspace"
   ]
  },
  {
   "cell_type": "code",
   "execution_count": 5,
   "metadata": {},
   "outputs": [],
   "source": [
    "# a simple random agent to play aginst and test\n",
    "class RandomEnemy:\n",
    "    def __init__(self):\n",
    "        self.action_space = [1, 2, 3, 4, 5, 6, 7, 8, 9]\n",
    "    \n",
    "    # this interface needs to be supported for any agent\n",
    "    def action(self, state):\n",
    "        return np.random.choice(self.action_space)"
   ]
  },
  {
   "cell_type": "code",
   "execution_count": 6,
   "metadata": {},
   "outputs": [],
   "source": [
    "# a simple random agent to play aginst and test\n",
    "class RandomEnemySC:    \n",
    "    # this interface needs to be supported for any agent\n",
    "    def action(self, observation):\n",
    "        return np.random.choice(observation)"
   ]
  },
  {
   "cell_type": "code",
   "execution_count": 7,
   "metadata": {},
   "outputs": [],
   "source": [
    "custom_gym = gym.make('gym_t99:t99sc-v0', num_players = 2, enemy=RandomEnemySC())"
   ]
  },
  {
   "cell_type": "code",
   "execution_count": null,
   "metadata": {},
   "outputs": [],
   "source": [
    "#Randomly fill the boards, used to test graphics\n",
    "from random import randrange\n",
    "custom_gym = gym.make('gym_t99:t99-v0', num_players = 100, enemy=RandomEnemy())\n",
    "for player in custom_gym.state.players:\n",
    "    board = player.board\n",
    "    if 0 == randrange(20):\n",
    "        player.place = randrange(100)\n",
    "    for i in range(board.shape[0]):\n",
    "        for j in range(board.shape[1]):\n",
    "            if board[i][j] == 10:\n",
    "                continue\n",
    "            odds = 10\n",
    "            if i <= 20:\n",
    "                odds = 20\n",
    "            \n",
    "            if randrange(odds) == 0:\n",
    "                board[i][j] = randrange(8)"
   ]
  },
  {
   "cell_type": "code",
   "execution_count": 8,
   "metadata": {},
   "outputs": [
    {
     "name": "stdout",
     "output_type": "stream",
     "text": [
      "[[10 10 10  0  0  0  0  0  0  0  0  0  0 10 10 10]\n",
      " [10 10 10  0  0  0  6  0  0  0  0  0  0 10 10 10]\n",
      " [10 10 10  0  0  0  6  6  0  0  0  0  0 10 10 10]\n",
      " [10 10 10  0  0  0  0  6  0  0  0  0  0 10 10 10]\n",
      " [10 10 10  0  0  0  0  0  0  0  0  0  0 10 10 10]\n",
      " [10 10 10  0  0  0  0  0  0  0  0  0  0 10 10 10]\n",
      " [10 10 10  0  0  0  0  0  0  0  0  0  0 10 10 10]\n",
      " [10 10 10  0  0  0  0  0  0  0  0  0  0 10 10 10]\n",
      " [10 10 10  0  0  0  0  0  0  0  0  0  0 10 10 10]\n",
      " [10 10 10  0  0  0  0  0  0  0  0  0  0 10 10 10]\n",
      " [10 10 10  0  0  0  0  0  0  0  0  0  0 10 10 10]\n",
      " [10 10 10  0  0  0  0  0  0  0  0  0  0 10 10 10]\n",
      " [10 10 10  0  0  0  0  0  0  0  0  0  0 10 10 10]\n",
      " [10 10 10  0  0  0  0  0  0  0  0  0  0 10 10 10]\n",
      " [10 10 10  0  0  0  0  0  0  0  0  0  0 10 10 10]\n",
      " [10 10 10  0  0  0  0  0  0  0  0  0  0 10 10 10]\n",
      " [10 10 10  0  0  0  0  0  0  0  0  0  0 10 10 10]\n",
      " [10 10 10  0  0  0  0  0  0  0  0  0  0 10 10 10]\n",
      " [10 10 10  0  0  0  0  0  0  0  0  0  0 10 10 10]\n",
      " [10 10 10  0  0  0  0  0  0  0  0  0  0 10 10 10]\n",
      " [10 10 10  0  0  0  0  0  0  0  0  0  0 10 10 10]\n",
      " [10 10 10  0  0  0  0  0  0  0  0  0  0 10 10 10]\n",
      " [10 10 10  0  0  0  0  0  0  0  0  0  0 10 10 10]\n",
      " [10 10 10  0  0  0  0  0  0  0  0  0  0 10 10 10]\n",
      " [10 10 10  0  0  0  0  0  0  0  0  0  0 10 10 10]\n",
      " [10 10 10 10 10 10 10 10 10 10 10 10 10 10 10 10]\n",
      " [10 10 10 10 10 10 10 10 10 10 10 10 10 10 10 10]\n",
      " [10 10 10 10 10 10 10 10 10 10 10 10 10 10 10 10]]\n"
     ]
    }
   ],
   "source": [
    "frame = custom_gym.render(mode=\"debug\")\n",
    "# frame[0][-4, 2:6] = 1\n",
    "print(frame[0])"
   ]
  },
  {
   "cell_type": "code",
   "execution_count": 26,
   "metadata": {},
   "outputs": [
    {
     "data": {
      "text/plain": [
       "(([<gym_t99.envs.state.State99 at 0x2b58df02670>,\n",
       "   <gym_t99.envs.state.State99 at 0x2b58df02eb0>,\n",
       "   <gym_t99.envs.state.State99 at 0x2b58df02070>,\n",
       "   <gym_t99.envs.state.State99 at 0x2b58df04550>,\n",
       "   <gym_t99.envs.state.State99 at 0x2b58df04ee0>,\n",
       "   <gym_t99.envs.state.State99 at 0x2b58df09130>,\n",
       "   <gym_t99.envs.state.State99 at 0x2b58df09d30>,\n",
       "   <gym_t99.envs.state.State99 at 0x2b58df097f0>,\n",
       "   <gym_t99.envs.state.State99 at 0x2b58df0c3d0>,\n",
       "   <gym_t99.envs.state.State99 at 0x2b58df0ca30>,\n",
       "   <gym_t99.envs.state.State99 at 0x2b58df0b610>,\n",
       "   <gym_t99.envs.state.State99 at 0x2b58df0b670>,\n",
       "   <gym_t99.envs.state.State99 at 0x2b58df0bfa0>,\n",
       "   <gym_t99.envs.state.State99 at 0x2b58df121f0>,\n",
       "   <gym_t99.envs.state.State99 at 0x2b58df12df0>,\n",
       "   <gym_t99.envs.state.State99 at 0x2b58df128b0>,\n",
       "   <gym_t99.envs.state.State99 at 0x2b58df15490>,\n",
       "   <gym_t99.envs.state.State99 at 0x2b58df15e20>,\n",
       "   <gym_t99.envs.state.State99 at 0x2b58df18730>,\n",
       "   <gym_t99.envs.state.State99 at 0x2b58df18c70>,\n",
       "   <gym_t99.envs.state.State99 at 0x2b58df186d0>,\n",
       "   <gym_t99.envs.state.State99 at 0x2b58df1c310>,\n",
       "   <gym_t99.envs.state.State99 at 0x2b58df1ceb0>,\n",
       "   <gym_t99.envs.state.State99 at 0x2b58df1c2b0>,\n",
       "   <gym_t99.envs.state.State99 at 0x2b58df20550>,\n",
       "   <gym_t99.envs.state.State99 at 0x2b58df20ee0>,\n",
       "   <gym_t99.envs.state.State99 at 0x2b58df23130>,\n",
       "   <gym_t99.envs.state.State99 at 0x2b58df23d30>,\n",
       "   <gym_t99.envs.state.State99 at 0x2b58df237f0>,\n",
       "   <gym_t99.envs.state.State99 at 0x2b58df263d0>,\n",
       "   <gym_t99.envs.state.State99 at 0x2b58df26370>,\n",
       "   <gym_t99.envs.state.State99 at 0x2b58df29610>,\n",
       "   <gym_t99.envs.state.State99 at 0x2b58df29670>,\n",
       "   <gym_t99.envs.state.State99 at 0x2b58df29fa0>,\n",
       "   <gym_t99.envs.state.State99 at 0x2b58df2c1f0>,\n",
       "   <gym_t99.envs.state.State99 at 0x2b58df2cdf0>,\n",
       "   <gym_t99.envs.state.State99 at 0x2b58df2c8b0>,\n",
       "   <gym_t99.envs.state.State99 at 0x2b58df2f520>,\n",
       "   <gym_t99.envs.state.State99 at 0x2b58df2fe20>,\n",
       "   <gym_t99.envs.state.State99 at 0x2b58df32070>,\n",
       "   <gym_t99.envs.state.State99 at 0x2b58df32c70>,\n",
       "   <gym_t99.envs.state.State99 at 0x2b58df32700>,\n",
       "   <gym_t99.envs.state.State99 at 0x2b58df353a0>,\n",
       "   <gym_t99.envs.state.State99 at 0x2b58df35eb0>,\n",
       "   <gym_t99.envs.state.State99 at 0x2b58df350a0>,\n",
       "   <gym_t99.envs.state.State99 at 0x2b58df394f0>,\n",
       "   <gym_t99.envs.state.State99 at 0x2b58df39ee0>,\n",
       "   <gym_t99.envs.state.State99 at 0x2b58df3c130>,\n",
       "   <gym_t99.envs.state.State99 at 0x2b58df3cd30>,\n",
       "   <gym_t99.envs.state.State99 at 0x2b58df3c7c0>,\n",
       "   <gym_t99.envs.state.State99 at 0x2b58df3f460>,\n",
       "   <gym_t99.envs.state.State99 at 0x2b58df3fa90>,\n",
       "   <gym_t99.envs.state.State99 at 0x2b58df426a0>,\n",
       "   <gym_t99.envs.state.State99 at 0x2b58df42640>,\n",
       "   <gym_t99.envs.state.State99 at 0x2b58df42fa0>,\n",
       "   <gym_t99.envs.state.State99 at 0x2b58df451f0>,\n",
       "   <gym_t99.envs.state.State99 at 0x2b58df45df0>,\n",
       "   <gym_t99.envs.state.State99 at 0x2b58df45880>,\n",
       "   <gym_t99.envs.state.State99 at 0x2b58df47520>,\n",
       "   <gym_t99.envs.state.State99 at 0x2b58df47e20>,\n",
       "   <gym_t99.envs.state.State99 at 0x2b58df4c070>,\n",
       "   <gym_t99.envs.state.State99 at 0x2b58df4cc70>,\n",
       "   <gym_t99.envs.state.State99 at 0x2b58df4c100>,\n",
       "   <gym_t99.envs.state.State99 at 0x2b58df4e2b0>,\n",
       "   <gym_t99.envs.state.State99 at 0x2b58df4eeb0>,\n",
       "   <gym_t99.envs.state.State99 at 0x2b58df4e940>,\n",
       "   <gym_t99.envs.state.State99 at 0x2b58df505e0>,\n",
       "   <gym_t99.envs.state.State99 at 0x2b58df50ee0>,\n",
       "   <gym_t99.envs.state.State99 at 0x2b58df55130>,\n",
       "   <gym_t99.envs.state.State99 at 0x2b58df55d30>],\n",
       "  [0.03,\n",
       "   0.03,\n",
       "   0.03,\n",
       "   0.03,\n",
       "   0.03,\n",
       "   0.03,\n",
       "   0.03,\n",
       "   0.03,\n",
       "   0.03,\n",
       "   0.03,\n",
       "   0.03,\n",
       "   0.03,\n",
       "   0.03,\n",
       "   0.03,\n",
       "   0.03,\n",
       "   0.03,\n",
       "   0.03,\n",
       "   0.03,\n",
       "   0.03,\n",
       "   0.03,\n",
       "   0.03,\n",
       "   0.03,\n",
       "   0.03,\n",
       "   0.03,\n",
       "   0.03,\n",
       "   0.03,\n",
       "   0.03,\n",
       "   0.03,\n",
       "   0.03,\n",
       "   0.03,\n",
       "   0.03,\n",
       "   0.03,\n",
       "   0.03,\n",
       "   0.03,\n",
       "   0.03,\n",
       "   0.03,\n",
       "   0.03,\n",
       "   0.03,\n",
       "   0.03,\n",
       "   0.03,\n",
       "   0.03,\n",
       "   0.03,\n",
       "   0.03,\n",
       "   0.03,\n",
       "   0.03,\n",
       "   0.03,\n",
       "   0.03,\n",
       "   0.03,\n",
       "   0.03,\n",
       "   0.03,\n",
       "   0.03,\n",
       "   0.03,\n",
       "   0.03,\n",
       "   0.03,\n",
       "   0.03,\n",
       "   0.03,\n",
       "   0.03,\n",
       "   0.03,\n",
       "   0.03,\n",
       "   0.03,\n",
       "   0.03,\n",
       "   0.03,\n",
       "   0.03,\n",
       "   0.03,\n",
       "   0.03,\n",
       "   0.03,\n",
       "   0.03,\n",
       "   0.03,\n",
       "   0.03,\n",
       "   0.03]),\n",
       " 0,\n",
       " False,\n",
       " {})"
      ]
     },
     "execution_count": 26,
     "metadata": {},
     "output_type": "execute_result"
    }
   ],
   "source": [
    "action = {\n",
    "    \"reward\": 0,\n",
    "    \"state\": deepcopy(custom_gym.state)\n",
    "}\n",
    "\n",
    "custom_gym.step(action)"
   ]
  },
  {
   "cell_type": "code",
   "execution_count": 14,
   "metadata": {},
   "outputs": [
    {
     "ename": "NameError",
     "evalue": "name 'b_width' is not defined",
     "output_type": "error",
     "traceback": [
      "\u001b[1;31m---------------------------------------------------------------------------\u001b[0m",
      "\u001b[1;31mNameError\u001b[0m                                 Traceback (most recent call last)",
      "\u001b[1;32m<ipython-input-14-75c6b697c619>\u001b[0m in \u001b[0;36m<module>\u001b[1;34m\u001b[0m\n\u001b[1;32m----> 1\u001b[1;33m \u001b[0moptions\u001b[0m\u001b[1;33m,\u001b[0m \u001b[0mrewards\u001b[0m \u001b[1;33m=\u001b[0m \u001b[0mcustom_gym\u001b[0m\u001b[1;33m.\u001b[0m\u001b[0m_observe\u001b[0m\u001b[1;33m(\u001b[0m\u001b[1;36m0\u001b[0m\u001b[1;33m)\u001b[0m\u001b[1;33m\u001b[0m\u001b[1;33m\u001b[0m\u001b[0m\n\u001b[0m",
      "\u001b[1;32m~\\Desktop\\UCLA\\Courses\\Spring_2021\\239AS\\239AS_T99_RL_Agent\\gym-t99\\gym_t99\\envs\\t99sc_env.py\u001b[0m in \u001b[0;36m_observe\u001b[1;34m(self, player_id)\u001b[0m\n\u001b[0;32m    201\u001b[0m                         \u001b[1;31m# clear lines\u001b[0m\u001b[1;33m\u001b[0m\u001b[1;33m\u001b[0m\u001b[1;33m\u001b[0m\u001b[0m\n\u001b[0;32m    202\u001b[0m                         \u001b[0mend_state\u001b[0m\u001b[1;33m.\u001b[0m\u001b[0mplayers\u001b[0m\u001b[1;33m[\u001b[0m\u001b[0mplayer_id\u001b[0m\u001b[1;33m]\u001b[0m\u001b[1;33m.\u001b[0m\u001b[0mboard\u001b[0m\u001b[1;33m,\u001b[0m \u001b[0mnum_lines\u001b[0m \u001b[1;33m=\u001b[0m\u001b[0;31m \u001b[0m\u001b[0;31m\\\u001b[0m\u001b[1;33m\u001b[0m\u001b[1;33m\u001b[0m\u001b[0m\n\u001b[1;32m--> 203\u001b[1;33m                             \u001b[0mself\u001b[0m\u001b[1;33m.\u001b[0m\u001b[0m_clear_rows\u001b[0m\u001b[1;33m(\u001b[0m\u001b[0mend_state\u001b[0m\u001b[1;33m.\u001b[0m\u001b[0mplayers\u001b[0m\u001b[1;33m[\u001b[0m\u001b[0mplayer_id\u001b[0m\u001b[1;33m]\u001b[0m\u001b[1;33m.\u001b[0m\u001b[0mboard\u001b[0m\u001b[1;33m)\u001b[0m\u001b[1;33m\u001b[0m\u001b[1;33m\u001b[0m\u001b[0m\n\u001b[0m\u001b[0;32m    204\u001b[0m                         \u001b[1;31m# get rewarded\u001b[0m\u001b[1;33m\u001b[0m\u001b[1;33m\u001b[0m\u001b[1;33m\u001b[0m\u001b[0m\n\u001b[0;32m    205\u001b[0m                         \u001b[0mreward\u001b[0m \u001b[1;33m+=\u001b[0m \u001b[0mnum_lines\u001b[0m \u001b[1;33m*\u001b[0m \u001b[0mT99SC\u001b[0m\u001b[1;33m.\u001b[0m\u001b[0msettings\u001b[0m\u001b[1;33m[\u001b[0m\u001b[1;34m\"r_clear_line\"\u001b[0m\u001b[1;33m]\u001b[0m\u001b[1;33m\u001b[0m\u001b[1;33m\u001b[0m\u001b[0m\n",
      "\u001b[1;32m~\\Desktop\\UCLA\\Courses\\Spring_2021\\239AS\\239AS_T99_RL_Agent\\gym-t99\\gym_t99\\envs\\t99sc_env.py\u001b[0m in \u001b[0;36m_clear_rows\u001b[1;34m(self, board)\u001b[0m\n\u001b[0;32m    290\u001b[0m             \u001b[1;32mif\u001b[0m \u001b[0mcleared\u001b[0m\u001b[1;33m[\u001b[0m\u001b[0mi\u001b[0m\u001b[1;33m]\u001b[0m \u001b[1;33m>\u001b[0m \u001b[1;36m0\u001b[0m\u001b[1;33m:\u001b[0m\u001b[1;33m\u001b[0m\u001b[1;33m\u001b[0m\u001b[0m\n\u001b[0;32m    291\u001b[0m                 \u001b[1;31m# clear the line\u001b[0m\u001b[1;33m\u001b[0m\u001b[1;33m\u001b[0m\u001b[1;33m\u001b[0m\u001b[0m\n\u001b[1;32m--> 292\u001b[1;33m                 \u001b[0mboard\u001b[0m\u001b[1;33m[\u001b[0m\u001b[0mi\u001b[0m\u001b[1;33m,\u001b[0m \u001b[1;36m3\u001b[0m\u001b[1;33m:\u001b[0m\u001b[0mb_width\u001b[0m \u001b[1;33m-\u001b[0m \u001b[1;36m3\u001b[0m\u001b[1;33m]\u001b[0m \u001b[1;33m=\u001b[0m \u001b[1;36m0\u001b[0m\u001b[1;33m\u001b[0m\u001b[1;33m\u001b[0m\u001b[0m\n\u001b[0m\u001b[0;32m    293\u001b[0m                 \u001b[0mcleared\u001b[0m\u001b[1;33m[\u001b[0m\u001b[0mi\u001b[0m\u001b[1;33m]\u001b[0m \u001b[1;33m=\u001b[0m \u001b[1;36m0\u001b[0m\u001b[1;33m\u001b[0m\u001b[1;33m\u001b[0m\u001b[0m\n\u001b[0;32m    294\u001b[0m                 \u001b[1;31m# shift all lines from the top by 1\u001b[0m\u001b[1;33m\u001b[0m\u001b[1;33m\u001b[0m\u001b[1;33m\u001b[0m\u001b[0m\n",
      "\u001b[1;31mNameError\u001b[0m: name 'b_width' is not defined"
     ]
    }
   ],
   "source": [
    "options, rewards = custom_gym._observe(0)"
   ]
  },
  {
   "cell_type": "code",
   "execution_count": 12,
   "metadata": {},
   "outputs": [],
   "source": [
    "custom_gym.state.players[0].incoming_garbage = [1, 1, 2, 2, 2, 3]"
   ]
  },
  {
   "cell_type": "code",
   "execution_count": 13,
   "metadata": {},
   "outputs": [
    {
     "name": "stdout",
     "output_type": "stream",
     "text": [
      "[[10 10 10  0  0  0  0  0  0  0  0  0  0 10 10 10]\n",
      " [10 10 10  0  0  0  0  0  0  0  0  0  0 10 10 10]\n",
      " [10 10 10  0  0  0  0  0  0  0  0  0  0 10 10 10]\n",
      " [10 10 10  0  0  0  0  0  0  0  0  0  0 10 10 10]\n",
      " [10 10 10  0  0  0  0  0  0  0  0  0  0 10 10 10]\n",
      " [10 10 10  0  0  0  0  0  0  0  0  0  0 10 10 10]\n",
      " [10 10 10  0  0  0  0  0  0  0  0  0  0 10 10 10]\n",
      " [10 10 10  0  0  0  0  0  0  0  0  0  0 10 10 10]\n",
      " [10 10 10  0  0  0  0  0  0  0  0  0  0 10 10 10]\n",
      " [10 10 10  0  0  0  0  0  0  0  0  0  0 10 10 10]\n",
      " [10 10 10  0  0  0  0  0  0  0  0  0  0 10 10 10]\n",
      " [10 10 10  0  0  0  0  0  0  0  0  0  0 10 10 10]\n",
      " [10 10 10  0  0  0  0  0  0  0  0  0  0 10 10 10]\n",
      " [10 10 10  0  0  0  0  0  0  0  0  0  0 10 10 10]\n",
      " [10 10 10  0  0  0  0  0  0  0  0  0  0 10 10 10]\n",
      " [10 10 10  0  0  0  0  0  0  0  0  0  0 10 10 10]\n",
      " [10 10 10  0  0  0  0  0  0  0  0  0  0 10 10 10]\n",
      " [10 10 10  0  0  0  0  0  0  0  0  0  0 10 10 10]\n",
      " [10 10 10  0  0  0  0  0  0  0  0  0  0 10 10 10]\n",
      " [10 10 10  0  0  0  0  0  0  0  0  0  0 10 10 10]\n",
      " [10 10 10  0  0  0  0  0  0  0  0  0  0 10 10 10]\n",
      " [10 10 10  0  0  0  0  0  0  0  0  0  0 10 10 10]\n",
      " [10 10 10  0  0  0  0  0  0  0  0  0  0 10 10 10]\n",
      " [10 10 10  0  0  0  6  6  0  0  0  0  0 10 10 10]\n",
      " [10 10 10  0  0  6  6  0  0  0  0  0  0 10 10 10]\n",
      " [10 10 10 10 10 10 10 10 10 10 10 10 10 10 10 10]\n",
      " [10 10 10 10 10 10 10 10 10 10 10 10 10 10 10 10]\n",
      " [10 10 10 10 10 10 10 10 10 10 10 10 10 10 10 10]]\n"
     ]
    }
   ],
   "source": [
    "# custom_gym.state.players[0].board[21, 5:12] = 1\n",
    "print(options[2].players[0].board)\n",
    "# print(custom_gym.state.players[0].piece_current.matrix)\n",
    "# print(custom_gym.state.players[0].piece_current.x)\n",
    "# print(custom_gym.state.players[0].piece_current.y)"
   ]
  },
  {
   "cell_type": "code",
   "execution_count": 334,
   "metadata": {},
   "outputs": [
    {
     "data": {
      "text/plain": [
       "False"
      ]
     },
     "execution_count": 334,
     "metadata": {},
     "output_type": "execute_result"
    }
   ],
   "source": [
    "custom_gym._collision(custom_gym.state.players[0].board,\n",
    "                      custom_gym.state.players[0].piece_current)"
   ]
  },
  {
   "cell_type": "code",
   "execution_count": 333,
   "metadata": {},
   "outputs": [],
   "source": [
    "custom_gym.state.players[0].piece_current.y -= 1"
   ]
  },
  {
   "cell_type": "code",
   "execution_count": 159,
   "metadata": {},
   "outputs": [
    {
     "data": {
      "text/plain": [
       "(None, None, None, {})"
      ]
     },
     "execution_count": 159,
     "metadata": {},
     "output_type": "execute_result"
    }
   ],
   "source": [
    "custom_gym.step(1)"
   ]
  },
  {
   "cell_type": "code",
   "execution_count": 30,
   "metadata": {},
   "outputs": [
    {
     "name": "stderr",
     "output_type": "stream",
     "text": [
      "[autoreload of gym_t99 failed: Traceback (most recent call last):\n",
      "  File \"C:\\Users\\slavc\\AppData\\Roaming\\Python\\Python38\\site-packages\\IPython\\extensions\\autoreload.py\", line 245, in check\n",
      "    superreload(m, reload, self.old_objects)\n",
      "  File \"C:\\Users\\slavc\\AppData\\Roaming\\Python\\Python38\\site-packages\\IPython\\extensions\\autoreload.py\", line 394, in superreload\n",
      "    module = reload(module)\n",
      "  File \"C:\\Users\\slavc\\Desktop\\UCLA\\Courses\\Spring_2021\\239AS\\239AS_T99_RL_Agent\\venv_239AS\\lib\\imp.py\", line 314, in reload\n",
      "    return importlib.reload(module)\n",
      "  File \"C:\\Users\\slavc\\Desktop\\UCLA\\Courses\\Spring_2021\\239AS\\239AS_T99_RL_Agent\\venv_239AS\\lib\\importlib\\__init__.py\", line 169, in reload\n",
      "    _bootstrap._exec(spec, module)\n",
      "  File \"<frozen importlib._bootstrap>\", line 604, in _exec\n",
      "  File \"<frozen importlib._bootstrap_external>\", line 783, in exec_module\n",
      "  File \"<frozen importlib._bootstrap>\", line 219, in _call_with_frames_removed\n",
      "  File \"C:\\Users\\slavc\\Desktop\\UCLA\\Courses\\Spring_2021\\239AS\\239AS_T99_RL_Agent\\gym-t99\\gym_t99\\__init__.py\", line 4, in <module>\n",
      "    register(\n",
      "  File \"C:\\Users\\slavc\\Desktop\\UCLA\\Courses\\Spring_2021\\239AS\\239AS_T99_RL_Agent\\venv_239AS\\lib\\site-packages\\gym\\envs\\registration.py\", line 142, in register\n",
      "    return registry.register(id, **kwargs)\n",
      "  File \"C:\\Users\\slavc\\Desktop\\UCLA\\Courses\\Spring_2021\\239AS\\239AS_T99_RL_Agent\\venv_239AS\\lib\\site-packages\\gym\\envs\\registration.py\", line 135, in register\n",
      "    raise error.Error('Cannot re-register id: {}'.format(id))\n",
      "gym.error.Error: Cannot re-register id: basic-v0\n",
      "]\n"
     ]
    },
    {
     "data": {
      "text/plain": [
       "array([0, 1, 2, 3, 4, 5, 6, 7, 8, 9])"
      ]
     },
     "execution_count": 30,
     "metadata": {},
     "output_type": "execute_result"
    }
   ],
   "source": [
    "np.arange(10)"
   ]
  }
 ],
 "metadata": {
  "kernelspec": {
   "display_name": "RL",
   "language": "python",
   "name": "rl"
  },
  "language_info": {
   "codemirror_mode": {
    "name": "ipython",
    "version": 3
   },
   "file_extension": ".py",
   "mimetype": "text/x-python",
   "name": "python",
   "nbconvert_exporter": "python",
   "pygments_lexer": "ipython3",
   "version": "3.6.13"
  },
  "varInspector": {
   "cols": {
    "lenName": 16,
    "lenType": 16,
    "lenVar": 40
   },
   "kernels_config": {
    "python": {
     "delete_cmd_postfix": "",
     "delete_cmd_prefix": "del ",
     "library": "var_list.py",
     "varRefreshCmd": "print(var_dic_list())"
    },
    "r": {
     "delete_cmd_postfix": ") ",
     "delete_cmd_prefix": "rm(",
     "library": "var_list.r",
     "varRefreshCmd": "cat(var_dic_list()) "
    }
   },
   "types_to_exclude": [
    "module",
    "function",
    "builtin_function_or_method",
    "instance",
    "_Feature"
   ],
   "window_display": false
  }
 },
 "nbformat": 4,
 "nbformat_minor": 2
}
