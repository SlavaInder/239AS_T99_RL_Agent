{
  "nbformat": 4,
  "nbformat_minor": 0,
  "metadata": {
    "kernelspec": {
      "display_name": "RL",
      "language": "python",
      "name": "rl"
    },
    "language_info": {
      "codemirror_mode": {
        "name": "ipython",
        "version": 3
      },
      "file_extension": ".py",
      "mimetype": "text/x-python",
      "name": "python",
      "nbconvert_exporter": "python",
      "pygments_lexer": "ipython3",
      "version": "3.6.13"
    },
    "colab": {
      "name": "Vanilla_Tetris_Training_2_(1).ipynb",
      "provenance": [],
      "collapsed_sections": []
    },
    "accelerator": "GPU"
  },
  "cells": [
    {
      "cell_type": "code",
      "metadata": {
        "colab": {
          "base_uri": "https://localhost:8080/"
        },
        "id": "7089vFH5qHkU",
        "outputId": "8a47e172-210f-4c1a-cda0-475913b472f7"
      },
      "source": [
        "from google.colab import drive\n",
        "drive.mount('/content/drive')\n",
        "\n",
        "\n",
        "\n",
        "import os\n",
        "\n",
        "# Change Directory\n",
        "os.chdir('/content/drive/MyDrive/239AS_T99_RL_Agent/gym-t99')"
      ],
      "execution_count": 1,
      "outputs": [
        {
          "output_type": "stream",
          "text": [
            "Mounted at /content/drive\n"
          ],
          "name": "stdout"
        }
      ]
    },
    {
      "cell_type": "code",
      "metadata": {
        "id": "F_9t7dQsqGzi"
      },
      "source": [
        "import os\n",
        "import sys\n",
        "\n",
        "# list directories where packages are stored\n",
        "# note that the parent directory of te repo is added automatically\n",
        "GYM_FOLDER = \"gym-t99\"\n",
        "\n",
        "# get this notebook's current working directory\n",
        "nb_cwd = os.getcwd()\n",
        "# get name of its parent directory\n",
        "nb_parent = os.path.dirname(nb_cwd)\n",
        "# add packages to path\n",
        "sys.path.insert(len(sys.path), nb_parent)\n",
        "sys.path.insert(len(sys.path), os.path.join(nb_parent, GYM_FOLDER))"
      ],
      "execution_count": 2,
      "outputs": []
    },
    {
      "cell_type": "code",
      "metadata": {
        "colab": {
          "base_uri": "https://localhost:8080/"
        },
        "id": "z9k5sXY-qVdl",
        "outputId": "340d0736-a5f0-4a69-95b4-3025e5039d6a"
      },
      "source": [
        "!pip install pygame"
      ],
      "execution_count": 3,
      "outputs": [
        {
          "output_type": "stream",
          "text": [
            "Collecting pygame\n",
            "\u001b[?25l  Downloading https://files.pythonhosted.org/packages/4b/9e/c400554dd1d0e562bd4379f35ad5023c68fc120003a58991405850f56f95/pygame-2.0.1-cp37-cp37m-manylinux1_x86_64.whl (11.8MB)\n",
            "\u001b[K     |████████████████████████████████| 11.8MB 5.4MB/s \n",
            "\u001b[?25hInstalling collected packages: pygame\n",
            "Successfully installed pygame-2.0.1\n"
          ],
          "name": "stdout"
        }
      ]
    },
    {
      "cell_type": "code",
      "metadata": {
        "id": "g_b-CVWfqGzm",
        "colab": {
          "base_uri": "https://localhost:8080/"
        },
        "outputId": "e0e2232b-be5d-4a5f-b70a-10c34110d183"
      },
      "source": [
        "import gym\n",
        "registered = gym.envs.registration.registry.env_specs.copy()\n",
        "\n",
        "import gym_t99\n",
        "import t_net"
      ],
      "execution_count": 4,
      "outputs": [
        {
          "output_type": "stream",
          "text": [
            "pygame 2.0.1 (SDL 2.0.14, Python 3.7.10)\n",
            "Hello from the pygame community. https://www.pygame.org/contribute.html\n"
          ],
          "name": "stdout"
        }
      ]
    },
    {
      "cell_type": "code",
      "metadata": {
        "colab": {
          "base_uri": "https://localhost:8080/"
        },
        "id": "Zr2cGUUXqGzn",
        "outputId": "28cb6f0c-707d-4e3e-86cd-c5a497c19fb7"
      },
      "source": [
        "import imp\n",
        "\n",
        "# this code removes environment from gym's registry\n",
        "env_dict = gym.envs.registration.registry.env_specs.copy()\n",
        "for env in env_dict:\n",
        "    if env not in registered:\n",
        "        print(\"Remove {} from registry\".format(env))\n",
        "        del gym.envs.registration.registry.env_specs[env]\n",
        "\n",
        "imp.reload(gym_t99)"
      ],
      "execution_count": 5,
      "outputs": [
        {
          "output_type": "stream",
          "text": [
            "Remove basic-v0 from registry\n",
            "Remove t99-v0 from registry\n",
            "Remove t99sc-v0 from registry\n"
          ],
          "name": "stdout"
        },
        {
          "output_type": "execute_result",
          "data": {
            "text/plain": [
              "<module 'gym_t99' from '/content/drive/My Drive/239AS_T99_RL_Agent/gym-t99/gym_t99/__init__.py'>"
            ]
          },
          "metadata": {
            "tags": []
          },
          "execution_count": 5
        }
      ]
    },
    {
      "cell_type": "code",
      "metadata": {
        "colab": {
          "base_uri": "https://localhost:8080/"
        },
        "id": "q5XK4QjEqGzo",
        "outputId": "d0b028e2-b238-4be4-f7e4-4dace62e89a0"
      },
      "source": [
        "# import matplotlib\n",
        "import matplotlib as plt\n",
        "# configure matplotlib\n",
        "%matplotlib inline\n",
        "\n",
        "import numpy as np\n",
        "from copy import deepcopy\n",
        "\n",
        "# import torch\n",
        "import torch\n",
        "from torch import nn\n",
        "\n",
        "# configure torch\n",
        "device = torch.device(\"cuda\" if torch.cuda.is_available() else \"cpu\")\n",
        "print(device)"
      ],
      "execution_count": 6,
      "outputs": [
        {
          "output_type": "stream",
          "text": [
            "cpu\n"
          ],
          "name": "stdout"
        }
      ]
    },
    {
      "cell_type": "code",
      "metadata": {
        "id": "_6ya-rdEqGzo"
      },
      "source": [
        "# a simple random agent to play aginst and test\n",
        "class RandomEnemySC:    \n",
        "    # this interface needs to be supported for any agent\n",
        "    def action(self, observation):\n",
        "        return np.random.choice(observation)"
      ],
      "execution_count": 7,
      "outputs": []
    },
    {
      "cell_type": "code",
      "metadata": {
        "id": "mDEi5-Y7qGzo"
      },
      "source": [
        "custom_gym = gym.make('gym_t99:t99sc-v0', num_players = 1, enemy=RandomEnemySC())"
      ],
      "execution_count": 8,
      "outputs": []
    },
    {
      "cell_type": "code",
      "metadata": {
        "id": "jZFWnFkbqGzp"
      },
      "source": [
        "import torch.nn as nn\n",
        "\n",
        "class DQN(nn.Module):\n",
        "    def __init__(self):\n",
        "        super(DQN, self).__init__()\n",
        "\n",
        "        self.layer1 = nn.Sequential(nn.Linear(4, 64), nn.ReLU(inplace=True))\n",
        "        self.layer2 = nn.Sequential(nn.Linear(64, 64), nn.ReLU(inplace=True))\n",
        "        self.layer3 = nn.Sequential(nn.Linear(64, 1))\n",
        "\n",
        "        self._create_weights()\n",
        "\n",
        "    def _create_weights(self):\n",
        "        for m in self.modules():\n",
        "            if isinstance(m, nn.Linear):\n",
        "                nn.init.xavier_uniform_(m.weight)\n",
        "                nn.init.constant_(m.bias, 0)\n",
        "\n",
        "    def forward(self, x):\n",
        "        x = x.to(device)\n",
        "        x = self.layer1(x)\n",
        "        x = self.layer2(x)\n",
        "        x = self.layer3(x)\n",
        "\n",
        "        return x"
      ],
      "execution_count": 9,
      "outputs": []
    },
    {
      "cell_type": "code",
      "metadata": {
        "id": "t0BGCUuxqGzp"
      },
      "source": [
        "def number_of_holes(board):\n",
        "    '''Number of holes in the board (empty sqquare with at least one block above it)'''\n",
        "    holes = 0\n",
        "\n",
        "    for col in zip(*board):\n",
        "        i = 0\n",
        "        while i < board.shape[0] and col[i] == 0:\n",
        "            i += 1\n",
        "        holes += len([x for x in col[i+1:] if x == 0])\n",
        "\n",
        "    return holes\n",
        "\n",
        "\n",
        "def bumpiness(board):\n",
        "    '''Sum of the differences of heights between pair of columns'''\n",
        "    total_bumpiness = 0\n",
        "    max_bumpiness = 0\n",
        "    min_ys = []\n",
        "\n",
        "    for col in zip(*board):\n",
        "        i = 0\n",
        "        while i < board.shape[0] and col[i] == 0:\n",
        "            i += 1\n",
        "        min_ys.append(i)\n",
        "\n",
        "    for i in range(len(min_ys) - 1):\n",
        "        bumpiness = abs(min_ys[i] - min_ys[i+1])\n",
        "        max_bumpiness = max(bumpiness, max_bumpiness)\n",
        "        total_bumpiness += abs(min_ys[i] - min_ys[i+1])\n",
        "\n",
        "    return total_bumpiness, max_bumpiness\n",
        "\n",
        "\n",
        "def height(board):\n",
        "    '''Sum and maximum height of the board'''\n",
        "    sum_height = 0\n",
        "    max_height = 0\n",
        "    min_height = board.shape[0]\n",
        "\n",
        "    for col in zip(*board):\n",
        "        i = 0\n",
        "        while i < board.shape[0] and col[i] == 0:\n",
        "            i += 1\n",
        "\n",
        "        height = board.shape[0] - i\n",
        "        sum_height += height\n",
        "        if height > max_height:\n",
        "            max_height = height\n",
        "        elif height < min_height:\n",
        "            min_height = height\n",
        "\n",
        "    return sum_height, max_height, min_height\n"
      ],
      "execution_count": 10,
      "outputs": []
    },
    {
      "cell_type": "code",
      "metadata": {
        "id": "Dc-8qvPIqGzq"
      },
      "source": [
        "def calculate_features(player):\n",
        "    num_rows = player.board.shape[0]\n",
        "    num_cols = player.board.shape[1]\n",
        "    board = player.board[5:num_rows-3, 3:num_cols-3]\n",
        "    lines = player.num_lines_cleared\n",
        "    holes = number_of_holes(board)\n",
        "    total_bumpiness, max_bumpiness = bumpiness(board)\n",
        "    sum_height, max_height, min_height = height(board)\n",
        "    return torch.tensor([lines, holes, total_bumpiness, sum_height])"
      ],
      "execution_count": 11,
      "outputs": []
    },
    {
      "cell_type": "code",
      "metadata": {
        "id": "DLvDT79JqGzq"
      },
      "source": [
        "def calculate_next_state_features(next_states):\n",
        "    next_state_features = []\n",
        "    for state in next_states:\n",
        "        features = calculate_features(state.players[0])\n",
        "        next_state_features.append(features)\n",
        "    return next_state_features"
      ],
      "execution_count": 12,
      "outputs": []
    },
    {
      "cell_type": "code",
      "metadata": {
        "id": "UmV-e_ynqGzq"
      },
      "source": [
        "from collections import deque\n",
        "import numpy as np\n",
        "import random\n",
        "from random import randint\n",
        "\n",
        "\n",
        "class DQNAgent:\n",
        "\n",
        "    '''Deep Q Learning Agent + Maximin\n",
        "    Args:\n",
        "        state_size (int): Size of the input domain\n",
        "        mem_size (int): Size of the replay buffer\n",
        "        discount (float): How important is the future rewards compared to the immediate ones [0,1]\n",
        "        epsilon (float): Exploration (probability of random values given) value at the start\n",
        "        epsilon_min (float): At what epsilon value the agent stops decrementing it\n",
        "        epsilon_stop_episode (int): At what episode the agent stops decreasing the exploration variable\n",
        "        n_neurons (list(int)): List with the number of neurons in each inner layer\n",
        "        activations (list): List with the activations used in each inner layer, as well as the output\n",
        "        loss (obj): Loss function\n",
        "        optimizer (obj): Otimizer used\n",
        "        replay_start_size: Minimum size needed to train\n",
        "    '''\n",
        "\n",
        "    def __init__(self, state_size, mem_size=10000, discount=0.95,\n",
        "                 epsilon=1, epsilon_min=0, epsilon_stop_episode=500,\n",
        "                 n_neurons=[32,32], activations=['relu', 'relu', 'linear'],\n",
        "                 loss='mse', optimizer='adam', replay_start_size=None):\n",
        "\n",
        "        assert len(activations) == len(n_neurons) + 1\n",
        "\n",
        "        self.state_size = state_size\n",
        "        self.memory = deque(maxlen=mem_size)\n",
        "        self.discount = discount\n",
        "        self.epsilon = epsilon\n",
        "        self.epsilon_min = epsilon_min\n",
        "        self.epsilon_decay = (self.epsilon - self.epsilon_min) / (epsilon_stop_episode)\n",
        "        self.n_neurons = n_neurons\n",
        "        self.activations = activations\n",
        "        if not replay_start_size:\n",
        "            replay_start_size = mem_size / 2\n",
        "        self.replay_start_size = replay_start_size\n",
        "        self.policy_net, self.optimizer, self.criterion = self._build_model()\n",
        "\n",
        "\n",
        "    def _build_model(self):\n",
        "        '''Builds a Keras deep neural network model'''\n",
        "        policy_net = DQN().to(device)\n",
        "        optimizer = torch.optim.Adam(policy_net.parameters(), lr=0.001)\n",
        "        criterion = nn.MSELoss()\n",
        "        \n",
        "        return policy_net, optimizer, criterion\n",
        "\n",
        "\n",
        "    def add_to_memory(self, current_state, next_state, reward, done):\n",
        "        '''Adds a play to the replay memory buffer'''\n",
        "        self.memory.append((current_state, next_state, reward, done))\n",
        "\n",
        "\n",
        "    def random_value(self):\n",
        "        '''Random score for a certain action'''\n",
        "        return random.random()\n",
        "\n",
        "\n",
        "    def predict_value(self, state):\n",
        "        '''Predicts the score for a certain state'''\n",
        "        return self.model(state)[0]\n",
        "\n",
        "\n",
        "    def act(self, state):\n",
        "        '''Returns the expected score of a certain state'''\n",
        "        state = np.reshape(state, [1, self.state_size])\n",
        "        if random.random() <= self.epsilon:\n",
        "            return self.random_value()\n",
        "        else:\n",
        "            return self.predict_value(state)\n",
        "\n",
        "\n",
        "    def best_state(self, states):\n",
        "        '''Returns the best state for a given collection of states'''\n",
        "        max_value = None\n",
        "        best_state = None\n",
        "\n",
        "        if random.random() <= self.epsilon:\n",
        "            return randint(0, len(states) - 1)\n",
        "\n",
        "        else:\n",
        "            next_states = torch.stack(states).type(torch.FloatTensor)\n",
        "            predictions = self.policy_net(next_states)[:, 0]\n",
        "            index = torch.argmax(predictions).item()\n",
        "            return index\n",
        "\n",
        "\n",
        "    def train(self, batch_size=32, epochs=3):\n",
        "        '''Trains the agent'''\n",
        "        n = len(self.memory)\n",
        "\n",
        "        if n >= self.replay_start_size and n >= batch_size:\n",
        "\n",
        "            batch = random.sample(self.memory, batch_size)\n",
        "\n",
        "            # Get the expected score for the next states, in batch (better performance)\n",
        "\n",
        "            next_states = [x[2] for x in batch]\n",
        "\n",
        "            next_qs = []\n",
        "            for state in next_states:\n",
        "                if state != None:\n",
        "                    next_qs.append(self.policy_net(state))\n",
        "                else:\n",
        "                    next_qs.append(0)\n",
        "\n",
        "            x = []\n",
        "            y = []\n",
        "\n",
        "            # Build xy structure to fit the model in batch (better performance)\n",
        "            for i, (state, reward, _, done) in enumerate(batch):\n",
        "                new_q = None\n",
        "                if not done:\n",
        "                    # Partial Q formula\n",
        "                    new_q = reward + self.discount * next_qs[i]\n",
        "\n",
        "                else:\n",
        "                    new_q = torch.unsqueeze(reward, 0)\n",
        "\n",
        "                x.append(self.policy_net(state))\n",
        "                y.append(new_q)\n",
        "            \n",
        "            x = torch.cat(x)\n",
        "            y = torch.cat(y)\n",
        "\n",
        "            # Fit the model to the given values\n",
        "            loss = self.criterion(x, y)\n",
        "            self.optimizer.zero_grad()\n",
        "            loss.backward()\n",
        "            self.optimizer.step()\n",
        "\n",
        "            # Update the exploration variable\n",
        "            if self.epsilon > self.epsilon_min:\n",
        "                self.epsilon -= self.epsilon_decay\n"
      ],
      "execution_count": 13,
      "outputs": []
    },
    {
      "cell_type": "code",
      "metadata": {
        "colab": {
          "base_uri": "https://localhost:8080/",
          "height": 395
        },
        "id": "L-993y5ZqGzu",
        "outputId": "db3b265e-7f41-4e78-947c-bcadd64ea046"
      },
      "source": [
        "from tqdm import tqdm\n",
        "\n",
        "episodes = 4000\n",
        "max_steps = None\n",
        "epsilon_stop_episode = 3000\n",
        "mem_size = 20000\n",
        "discount = 0.95\n",
        "batch_size = 512\n",
        "epochs = 1\n",
        "render_every = 50\n",
        "log_every = 50\n",
        "replay_start_size = 2000\n",
        "train_every = 1\n",
        "n_neurons = [32, 32]\n",
        "render_delay = None\n",
        "activations = ['relu', 'relu', 'linear']\n",
        "\n",
        "agent = DQNAgent(4,\n",
        "                 n_neurons=n_neurons, activations=activations,\n",
        "                 epsilon_stop_episode=epsilon_stop_episode, mem_size=mem_size,\n",
        "                 discount=discount, replay_start_size=replay_start_size)\n",
        "\n",
        "\n",
        "scores = []\n",
        "time_lasted = []\n",
        "\n",
        "for episode in range(episodes):\n",
        "    custom_gym.reset()\n",
        "    action = {\n",
        "        \"reward\": 0,\n",
        "        \"state\": deepcopy(custom_gym.state)\n",
        "    }\n",
        "\n",
        "    observations, reward, done, _ = custom_gym.step(action)\n",
        "\n",
        "    current_state = custom_gym.state\n",
        "    \n",
        "    done = False\n",
        "    steps = 0\n",
        "\n",
        "\n",
        "    next_states, next_state_rewards = observations\n",
        "\n",
        "    \n",
        "\n",
        "    # Game\n",
        "    while not done and (not max_steps or steps < max_steps):\n",
        "        next_states_features = calculate_next_state_features(next_states)\n",
        "        best_state_index = agent.best_state(next_states_features)\n",
        "\n",
        "        action = {\n",
        "            \"reward\" : next_state_rewards[best_state_index],\n",
        "            \"state\" : next_states[best_state_index]\n",
        "        }\n",
        "        \n",
        "\n",
        "        new_next_states, reward, done, _ = custom_gym.step(action)\n",
        "\n",
        "\n",
        "        reward = torch.tensor([reward], device=device).type(torch.FloatTensor).to(device)\n",
        "        \n",
        "        if not done:\n",
        "            save_next_state = torch.unsqueeze(torch.tensor(calculate_features(next_states[best_state_index].players[0])).type(torch.FloatTensor), 0) \n",
        "        else:\n",
        "            save_next_state = None\n",
        "        \n",
        "        agent.add_to_memory(\n",
        "            torch.unsqueeze(torch.tensor(calculate_features(current_state.players[0])).type(torch.FloatTensor), 0), \n",
        "            reward,\n",
        "            save_next_state,\n",
        "            done\n",
        "        )\n",
        "        \n",
        "\n",
        "        current_state = next_states[best_state_index]\n",
        "        next_states, next_state_rewards = new_next_states\n",
        "        steps += 1\n",
        "\n",
        "    time_lasted.append(steps)\n",
        "\n",
        "    # Train\n",
        "    if episode % train_every == 0:\n",
        "        agent.train(batch_size=batch_size, epochs=epochs)\n"
      ],
      "execution_count": 14,
      "outputs": [
        {
          "output_type": "stream",
          "text": [
            "/usr/local/lib/python3.7/dist-packages/ipykernel_launcher.py:63: UserWarning: To copy construct from a tensor, it is recommended to use sourceTensor.clone().detach() or sourceTensor.clone().detach().requires_grad_(True), rather than torch.tensor(sourceTensor).\n",
            "/usr/local/lib/python3.7/dist-packages/ipykernel_launcher.py:68: UserWarning: To copy construct from a tensor, it is recommended to use sourceTensor.clone().detach() or sourceTensor.clone().detach().requires_grad_(True), rather than torch.tensor(sourceTensor).\n"
          ],
          "name": "stderr"
        },
        {
          "output_type": "error",
          "ename": "KeyboardInterrupt",
          "evalue": "ignored",
          "traceback": [
            "\u001b[0;31m---------------------------------------------------------------------------\u001b[0m",
            "\u001b[0;31mKeyboardInterrupt\u001b[0m                         Traceback (most recent call last)",
            "\u001b[0;32m<ipython-input-14-7303396bed73>\u001b[0m in \u001b[0;36m<module>\u001b[0;34m()\u001b[0m\n\u001b[1;32m     46\u001b[0m     \u001b[0;31m# Game\u001b[0m\u001b[0;34m\u001b[0m\u001b[0;34m\u001b[0m\u001b[0;34m\u001b[0m\u001b[0m\n\u001b[1;32m     47\u001b[0m     \u001b[0;32mwhile\u001b[0m \u001b[0;32mnot\u001b[0m \u001b[0mdone\u001b[0m \u001b[0;32mand\u001b[0m \u001b[0;34m(\u001b[0m\u001b[0;32mnot\u001b[0m \u001b[0mmax_steps\u001b[0m \u001b[0;32mor\u001b[0m \u001b[0msteps\u001b[0m \u001b[0;34m<\u001b[0m \u001b[0mmax_steps\u001b[0m\u001b[0;34m)\u001b[0m\u001b[0;34m:\u001b[0m\u001b[0;34m\u001b[0m\u001b[0;34m\u001b[0m\u001b[0m\n\u001b[0;32m---> 48\u001b[0;31m         \u001b[0mnext_states_features\u001b[0m \u001b[0;34m=\u001b[0m \u001b[0mcalculate_next_state_features\u001b[0m\u001b[0;34m(\u001b[0m\u001b[0mnext_states\u001b[0m\u001b[0;34m)\u001b[0m\u001b[0;34m\u001b[0m\u001b[0;34m\u001b[0m\u001b[0m\n\u001b[0m\u001b[1;32m     49\u001b[0m         \u001b[0mbest_state_index\u001b[0m \u001b[0;34m=\u001b[0m \u001b[0magent\u001b[0m\u001b[0;34m.\u001b[0m\u001b[0mbest_state\u001b[0m\u001b[0;34m(\u001b[0m\u001b[0mnext_states_features\u001b[0m\u001b[0;34m)\u001b[0m\u001b[0;34m\u001b[0m\u001b[0;34m\u001b[0m\u001b[0m\n\u001b[1;32m     50\u001b[0m \u001b[0;34m\u001b[0m\u001b[0m\n",
            "\u001b[0;32m<ipython-input-12-e71dc07ed11e>\u001b[0m in \u001b[0;36mcalculate_next_state_features\u001b[0;34m(next_states)\u001b[0m\n\u001b[1;32m      2\u001b[0m     \u001b[0mnext_state_features\u001b[0m \u001b[0;34m=\u001b[0m \u001b[0;34m[\u001b[0m\u001b[0;34m]\u001b[0m\u001b[0;34m\u001b[0m\u001b[0;34m\u001b[0m\u001b[0m\n\u001b[1;32m      3\u001b[0m     \u001b[0;32mfor\u001b[0m \u001b[0mstate\u001b[0m \u001b[0;32min\u001b[0m \u001b[0mnext_states\u001b[0m\u001b[0;34m:\u001b[0m\u001b[0;34m\u001b[0m\u001b[0;34m\u001b[0m\u001b[0m\n\u001b[0;32m----> 4\u001b[0;31m         \u001b[0mfeatures\u001b[0m \u001b[0;34m=\u001b[0m \u001b[0mcalculate_features\u001b[0m\u001b[0;34m(\u001b[0m\u001b[0mstate\u001b[0m\u001b[0;34m.\u001b[0m\u001b[0mplayers\u001b[0m\u001b[0;34m[\u001b[0m\u001b[0;36m0\u001b[0m\u001b[0;34m]\u001b[0m\u001b[0;34m)\u001b[0m\u001b[0;34m\u001b[0m\u001b[0;34m\u001b[0m\u001b[0m\n\u001b[0m\u001b[1;32m      5\u001b[0m         \u001b[0mnext_state_features\u001b[0m\u001b[0;34m.\u001b[0m\u001b[0mappend\u001b[0m\u001b[0;34m(\u001b[0m\u001b[0mfeatures\u001b[0m\u001b[0;34m)\u001b[0m\u001b[0;34m\u001b[0m\u001b[0;34m\u001b[0m\u001b[0m\n\u001b[1;32m      6\u001b[0m     \u001b[0;32mreturn\u001b[0m \u001b[0mnext_state_features\u001b[0m\u001b[0;34m\u001b[0m\u001b[0;34m\u001b[0m\u001b[0m\n",
            "\u001b[0;32m<ipython-input-11-9fe1a1d26cbc>\u001b[0m in \u001b[0;36mcalculate_features\u001b[0;34m(player)\u001b[0m\n\u001b[1;32m      7\u001b[0m     \u001b[0mtotal_bumpiness\u001b[0m\u001b[0;34m,\u001b[0m \u001b[0mmax_bumpiness\u001b[0m \u001b[0;34m=\u001b[0m \u001b[0mbumpiness\u001b[0m\u001b[0;34m(\u001b[0m\u001b[0mboard\u001b[0m\u001b[0;34m)\u001b[0m\u001b[0;34m\u001b[0m\u001b[0;34m\u001b[0m\u001b[0m\n\u001b[1;32m      8\u001b[0m     \u001b[0msum_height\u001b[0m\u001b[0;34m,\u001b[0m \u001b[0mmax_height\u001b[0m\u001b[0;34m,\u001b[0m \u001b[0mmin_height\u001b[0m \u001b[0;34m=\u001b[0m \u001b[0mheight\u001b[0m\u001b[0;34m(\u001b[0m\u001b[0mboard\u001b[0m\u001b[0;34m)\u001b[0m\u001b[0;34m\u001b[0m\u001b[0;34m\u001b[0m\u001b[0m\n\u001b[0;32m----> 9\u001b[0;31m     \u001b[0;32mreturn\u001b[0m \u001b[0mtorch\u001b[0m\u001b[0;34m.\u001b[0m\u001b[0mtensor\u001b[0m\u001b[0;34m(\u001b[0m\u001b[0;34m[\u001b[0m\u001b[0mlines\u001b[0m\u001b[0;34m,\u001b[0m \u001b[0mholes\u001b[0m\u001b[0;34m,\u001b[0m \u001b[0mtotal_bumpiness\u001b[0m\u001b[0;34m,\u001b[0m \u001b[0msum_height\u001b[0m\u001b[0;34m]\u001b[0m\u001b[0;34m)\u001b[0m\u001b[0;34m\u001b[0m\u001b[0;34m\u001b[0m\u001b[0m\n\u001b[0m",
            "\u001b[0;31mKeyboardInterrupt\u001b[0m: "
          ]
        }
      ]
    },
    {
      "cell_type": "code",
      "metadata": {
        "colab": {
          "base_uri": "https://localhost:8080/",
          "height": 279
        },
        "id": "Xnr6HfwBqGzv",
        "outputId": "aaba004f-dc09-4d27-ebbc-dc010fdb86a0"
      },
      "source": [
        "import matplotlib.pyplot as plt\n",
        "\n",
        "plt.figure()\n",
        "xs = [i for i in range(1, 3964)]\n",
        "plt.plot(xs, time_lasted)\n",
        "plt.xlabel(\"epochs\")\n",
        "plt.ylabel(\"time lasted\")\n",
        "plt.show()"
      ],
      "execution_count": 21,
      "outputs": [
        {
          "output_type": "display_data",
          "data": {
            "image/png": "[encoded data removed]",
            "text/plain": [
              "<Figure size 432x288 with 1 Axes>"
            ]
          },
          "metadata": {
            "tags": [],
            "needs_background": "light"
          }
        }
      ]
    },
    {
      "cell_type": "code",
      "metadata": {
        "id": "ZzpIjkEwqGzv"
      },
      "source": [
        "PATH=\"./model_with_swap_1\"\n",
        "torch.save(agent.policy_net.state_dict(), PATH)"
      ],
      "execution_count": 22,
      "outputs": []
    }
  ]
}