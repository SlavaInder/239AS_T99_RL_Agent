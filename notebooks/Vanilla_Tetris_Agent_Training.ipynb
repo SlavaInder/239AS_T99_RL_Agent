{
 "cells": [
  {
   "cell_type": "code",
   "execution_count": 1,
   "metadata": {},
   "outputs": [],
   "source": [
    "%load_ext autoreload\n",
    "%autoreload 2"
   ]
  },
  {
   "cell_type": "code",
   "execution_count": 2,
   "metadata": {},
   "outputs": [],
   "source": [
    "import os\n",
    "import sys\n",
    "\n",
    "# list directories where packages are stored\n",
    "# note that the parent directory of te repo is added automatically\n",
    "GYM_FOLDER = \"gym-t99\"\n",
    "\n",
    "# get this notebook's current working directory\n",
    "nb_cwd = os.getcwd()\n",
    "# get name of its parent directory\n",
    "nb_parent = os.path.dirname(nb_cwd)\n",
    "# add packages to path\n",
    "sys.path.insert(len(sys.path), nb_parent)\n",
    "sys.path.insert(len(sys.path), os.path.join(nb_parent, GYM_FOLDER))"
   ]
  },
  {
   "cell_type": "code",
   "execution_count": 3,
   "metadata": {},
   "outputs": [
    {
     "name": "stdout",
     "output_type": "stream",
     "text": [
      "pygame 2.0.1 (SDL 2.0.14, Python 3.6.13)\n",
      "Hello from the pygame community. https://www.pygame.org/contribute.html\n"
     ]
    }
   ],
   "source": [
    "import gym\n",
    "registered = gym.envs.registration.registry.env_specs.copy()\n",
    "\n",
    "import gym_t99\n",
    "import t_net"
   ]
  },
  {
   "cell_type": "code",
   "execution_count": 4,
   "metadata": {},
   "outputs": [
    {
     "name": "stdout",
     "output_type": "stream",
     "text": [
      "Remove basic-v0 from registry\n",
      "Remove t99-v0 from registry\n",
      "Remove t99sc-v0 from registry\n"
     ]
    },
    {
     "data": {
      "text/plain": [
       "<module 'gym_t99' from '/Users/surajvathsa/Projects/DL-stuff/RL/239AS_T99_RL_Agent/gym-t99/gym_t99/__init__.py'>"
      ]
     },
     "execution_count": 4,
     "metadata": {},
     "output_type": "execute_result"
    }
   ],
   "source": [
    "import imp\n",
    "\n",
    "# this code removes environment from gym's registry\n",
    "env_dict = gym.envs.registration.registry.env_specs.copy()\n",
    "for env in env_dict:\n",
    "    if env not in registered:\n",
    "        print(\"Remove {} from registry\".format(env))\n",
    "        del gym.envs.registration.registry.env_specs[env]\n",
    "\n",
    "imp.reload(gym_t99)"
   ]
  },
  {
   "cell_type": "code",
   "execution_count": 5,
   "metadata": {},
   "outputs": [],
   "source": [
    "# import matplotlib\n",
    "import matplotlib as plt\n",
    "# configure matplotlib\n",
    "%matplotlib inline"
   ]
  },
  {
   "cell_type": "code",
   "execution_count": 6,
   "metadata": {},
   "outputs": [],
   "source": [
    "import numpy as np\n",
    "from copy import deepcopy"
   ]
  },
  {
   "cell_type": "code",
   "execution_count": 7,
   "metadata": {},
   "outputs": [
    {
     "name": "stdout",
     "output_type": "stream",
     "text": [
      "cpu\n"
     ]
    }
   ],
   "source": [
    "# import torch\n",
    "import torch\n",
    "from torch import nn\n",
    "\n",
    "# configure torch\n",
    "device = torch.device(\"cuda\" if torch.cuda.is_available() else \"cpu\")\n",
    "print(device)"
   ]
  },
  {
   "cell_type": "code",
   "execution_count": 9,
   "metadata": {},
   "outputs": [],
   "source": [
    "# a simple random agent to play aginst and test\n",
    "class RandomEnemySC:    \n",
    "    # this interface needs to be supported for any agent\n",
    "    def action(self, observation):\n",
    "        return np.random.choice(observation)"
   ]
  },
  {
   "cell_type": "code",
   "execution_count": 179,
   "metadata": {},
   "outputs": [],
   "source": [
    "custom_gym = gym.make('gym_t99:t99sc-v0', num_players = 1, enemy=RandomEnemySC())"
   ]
  },
  {
   "cell_type": "code",
   "execution_count": 73,
   "metadata": {},
   "outputs": [
    {
     "name": "stdout",
     "output_type": "stream",
     "text": [
      "[[10 10 10  0  0  0  0  0  0  0  0  0  0 10 10 10]\n",
      " [10 10 10  0  2  2  0  0  0  0  0  0  0 10 10 10]\n",
      " [10 10 10  0  2  0  0  0  0  0  0  0  0 10 10 10]\n",
      " [10 10 10  0  2  0  0  0  0  0  0  0  0 10 10 10]\n",
      " [10 10 10  0  0  0  0  0  0  0  0  0  0 10 10 10]\n",
      " [10 10 10  0  0  0  0  0  0  0  0  0  0 10 10 10]\n",
      " [10 10 10  0  0  0  0  0  0  0  0  0  0 10 10 10]\n",
      " [10 10 10  0  0  0  0  0  0  0  0  0  0 10 10 10]\n",
      " [10 10 10  0  0  0  0  0  0  0  0  0  0 10 10 10]\n",
      " [10 10 10  0  0  0  0  0  0  0  0  0  0 10 10 10]\n",
      " [10 10 10  0  0  0  0  0  0  0  0  0  0 10 10 10]\n",
      " [10 10 10  0  0  0  0  0  0  0  0  0  0 10 10 10]\n",
      " [10 10 10  0  0  0  0  0  0  0  0  0  0 10 10 10]\n",
      " [10 10 10  0  0  0  0  0  0  0  0  0  0 10 10 10]\n",
      " [10 10 10  0  0  0  0  0  0  0  0  0  0 10 10 10]\n",
      " [10 10 10  0  0  0  0  0  0  0  0  0  0 10 10 10]\n",
      " [10 10 10  0  0  0  0  0  0  0  0  0  0 10 10 10]\n",
      " [10 10 10  0  0  0  0  0  0  0  0  0  0 10 10 10]\n",
      " [10 10 10  0  0  0  0  0  0  0  0  0  0 10 10 10]\n",
      " [10 10 10  0  0  0  0  0  0  0  0  0  0 10 10 10]\n",
      " [10 10 10  0  0  0  0  0  0  0  0  0  0 10 10 10]\n",
      " [10 10 10  0  0  0  0  0  0  0  0  0  0 10 10 10]\n",
      " [10 10 10  0  0  0  0  0  0  0  0  0  0 10 10 10]\n",
      " [10 10 10  0  0  0  0  0  0  0  0  0  0 10 10 10]\n",
      " [10 10 10  0  0  0  0  0  0  0  0  0  0 10 10 10]\n",
      " [10 10 10 10 10 10 10 10 10 10 10 10 10 10 10 10]\n",
      " [10 10 10 10 10 10 10 10 10 10 10 10 10 10 10 10]\n",
      " [10 10 10 10 10 10 10 10 10 10 10 10 10 10 10 10]]\n"
     ]
    }
   ],
   "source": [
    "frame = custom_gym.render(mode=\"debug\")\n",
    "# frame[0][-4, 2:6] = 1\n",
    "print(frame[0])"
   ]
  },
  {
   "cell_type": "code",
   "execution_count": 74,
   "metadata": {},
   "outputs": [],
   "source": [
    "action = {\n",
    "    \"reward\": 0,\n",
    "    \"state\": deepcopy(custom_gym.state)\n",
    "}\n",
    "\n",
    "observations, reward, done, _ = custom_gym.step(action)"
   ]
  },
  {
   "cell_type": "code",
   "execution_count": 75,
   "metadata": {},
   "outputs": [
    {
     "name": "stdout",
     "output_type": "stream",
     "text": [
      "[[10 10 10  0  0  0  0  0  0  0  0  0  0 10 10 10]\n",
      " [10 10 10  0  0  0  0  0  0  0  0  0  0 10 10 10]\n",
      " [10 10 10  0  0  0  0  0  0  0  0  0  0 10 10 10]\n",
      " [10 10 10  0  0  0  0  0  0  0  0  0  0 10 10 10]\n",
      " [10 10 10  0  0  0  0  0  0  0  0  0  0 10 10 10]\n",
      " [10 10 10  0  0  0  0  0  0  0  0  0  0 10 10 10]\n",
      " [10 10 10  0  0  0  0  0  0  0  0  0  0 10 10 10]\n",
      " [10 10 10  0  0  0  0  0  0  0  0  0  0 10 10 10]\n",
      " [10 10 10  0  0  0  0  0  0  0  0  0  0 10 10 10]\n",
      " [10 10 10  0  0  0  0  0  0  0  0  0  0 10 10 10]\n",
      " [10 10 10  0  0  0  0  0  0  0  0  0  0 10 10 10]\n",
      " [10 10 10  0  0  0  0  0  0  0  0  0  0 10 10 10]\n",
      " [10 10 10  0  0  0  0  0  0  0  0  0  0 10 10 10]\n",
      " [10 10 10  0  0  0  0  0  0  0  0  0  0 10 10 10]\n",
      " [10 10 10  0  0  0  0  0  0  0  0  0  0 10 10 10]\n",
      " [10 10 10  0  0  0  0  0  0  0  0  0  0 10 10 10]\n",
      " [10 10 10  0  0  0  0  0  0  0  0  0  0 10 10 10]\n",
      " [10 10 10  0  0  0  0  0  0  0  0  0  0 10 10 10]\n",
      " [10 10 10  0  0  0  0  0  0  0  0  0  0 10 10 10]\n",
      " [10 10 10  0  0  0  0  0  0  0  0  0  0 10 10 10]\n",
      " [10 10 10  0  0  0  0  0  0  0  0  0  0 10 10 10]\n",
      " [10 10 10  0  0  0  0  0  0  0  0  0  0 10 10 10]\n",
      " [10 10 10  0  0  0  0  0  0  0  0  0  0 10 10 10]\n",
      " [10 10 10  0  0  2  2  2  0  0  0  0  0 10 10 10]\n",
      " [10 10 10  0  0  0  0  2  0  0  0  0  0 10 10 10]\n",
      " [10 10 10 10 10 10 10 10 10 10 10 10 10 10 10 10]\n",
      " [10 10 10 10 10 10 10 10 10 10 10 10 10 10 10 10]\n",
      " [10 10 10 10 10 10 10 10 10 10 10 10 10 10 10 10]]\n"
     ]
    }
   ],
   "source": [
    "print(observations[0][2].players[0].board)"
   ]
  },
  {
   "cell_type": "code",
   "execution_count": 76,
   "metadata": {},
   "outputs": [],
   "source": [
    "def get_holes(board):\n",
    "    num_holes = 0\n",
    "    for col in range(3, board.shape[1]-3):\n",
    "        row = 0\n",
    "        while row < board.shape[0] - 3 and board[row][col] == 0:\n",
    "            row += 1\n",
    "        while row < board.shape[0] - 3:\n",
    "            if board[row][col] == 0:\n",
    "                num_holes += 1\n",
    "            row += 1\n",
    "    return num_holes"
   ]
  },
  {
   "cell_type": "code",
   "execution_count": 77,
   "metadata": {},
   "outputs": [],
   "source": [
    "def get_bumpiness_and_height(board):\n",
    "    mask = board != 0\n",
    "    invert_heights = np.where(mask.any(axis=0), np.argmax(mask, axis=0), board.shape[0])\n",
    "    heights = board.shape[0] - invert_heights\n",
    "    total_height = np.sum(heights)\n",
    "    currs = heights[:-1]\n",
    "    nexts = heights[1:]\n",
    "    diffs = np.abs(currs - nexts)\n",
    "    total_bumpiness = np.sum(diffs)\n",
    "    return total_bumpiness, total_height\n",
    "\n",
    "def bumpiness(board):\n",
    "    '''Sum of the differences of heights between pair of columns'''\n",
    "    total_bumpiness = 0\n",
    "    max_bumpiness = 0\n",
    "    min_ys = []\n",
    "\n",
    "    for col in zip(*board[:board.shape[0]-3, 3:board.shape[1]-3]):\n",
    "        i = 0\n",
    "        while i < board.shape[0] and col[i] == 0:\n",
    "            i += 1\n",
    "        min_ys.append(i)\n",
    "\n",
    "    for i in range(len(min_ys) - 1):\n",
    "        bumpiness = abs(min_ys[i] - min_ys[i+1])\n",
    "        max_bumpiness = max(bumpiness, max_bumpiness)\n",
    "        total_bumpiness += abs(min_ys[i] - min_ys[i+1])\n",
    "\n",
    "    return total_bumpiness, max_bumpiness"
   ]
  },
  {
   "cell_type": "code",
   "execution_count": 78,
   "metadata": {},
   "outputs": [],
   "source": [
    "# num lines cleared -> obs[0][-1]\n",
    "def calculate_features(player):\n",
    "    \n",
    "    board = player.board\n",
    "    num_lines_cleared = player.num_lines_cleared\n",
    "    num_holes = get_holes(board)\n",
    "    total_bumpiness, total_height = get_bumpiness_and_height(board)\n",
    "\n",
    "    \n",
    "    return np.array([num_holes, total_bumpiness, total_height, num_lines_cleared])"
   ]
  },
  {
   "cell_type": "code",
   "execution_count": 79,
   "metadata": {},
   "outputs": [],
   "source": [
    "def calculate_next_state_features(next_states):\n",
    "    next_state_features = []\n",
    "    for state in next_states:\n",
    "        features = calculate_features(state.players[0])\n",
    "        next_state_features.append(features)\n",
    "    return next_state_features"
   ]
  },
  {
   "cell_type": "code",
   "execution_count": 201,
   "metadata": {},
   "outputs": [],
   "source": [
    "\"\"\"\n",
    "@author: Viet Nguyen <nhviet1009@gmail.com>\n",
    "\"\"\"\n",
    "import torch.nn as nn\n",
    "\n",
    "class DQN(nn.Module):\n",
    "    def __init__(self, n_actions):\n",
    "        super(DQN, self).__init__()\n",
    "\n",
    "        self.layer1 = nn.Sequential(nn.Linear(4, 64), nn.ReLU(inplace=True))\n",
    "        self.layer2 = nn.Sequential(nn.Linear(64, 64), nn.ReLU(inplace=True))\n",
    "        self.layer3 = nn.Sequential(nn.Linear(64, 1))\n",
    "\n",
    "        self._create_weights()\n",
    "\n",
    "    def _create_weights(self):\n",
    "        for m in self.modules():\n",
    "            if isinstance(m, nn.Linear):\n",
    "                nn.init.xavier_uniform_(m.weight)\n",
    "                nn.init.constant_(m.bias, 0)\n",
    "\n",
    "    def forward(self, x):\n",
    "        x = self.layer1(x)\n",
    "        x = self.layer2(x)\n",
    "        x = self.layer3(x)\n",
    "\n",
    "        return x"
   ]
  },
  {
   "cell_type": "code",
   "execution_count": 202,
   "metadata": {},
   "outputs": [],
   "source": [
    "from collections import namedtuple\n",
    "# Transition is same as experience.\n",
    "Transition = namedtuple('Transition', ('state', 'action', 'next_state', 'reward'))\n",
    "\n",
    "class ReplayMemory(object):\n",
    "    \"\"\"A cyclic buffer i.e. newer experiences over-write \n",
    "    the older experiences when the capacity of ReplayMemory\n",
    "    is reached.\n",
    "    \"\"\"\n",
    "    def __init__(self, capacity):\n",
    "        self.capacity = capacity\n",
    "        self.memory = []\n",
    "        self.position = 0\n",
    "\n",
    "    def push(self, *args):\n",
    "        if len(self.memory) < self.capacity:\n",
    "            self.memory.append(None)\n",
    "    \n",
    "        self.memory[self.position] = Transition(*args)\n",
    "        self.position = (self.position + 1)%self.capacity\n",
    "\n",
    "    def sample(self, batch_size):\n",
    "        return random.sample(self.memory, batch_size)\n",
    "\n",
    "    def __len__(self):\n",
    "        return len(self.memory)"
   ]
  },
  {
   "cell_type": "code",
   "execution_count": 206,
   "metadata": {},
   "outputs": [],
   "source": [
    "import torch\n",
    "import torch.nn as nn\n",
    "import torch.optim as optim\n",
    "import torch.nn.functional as F\n",
    "from random import randint\n",
    "\n",
    "BATCH_SIZE = 512\n",
    "GAMMA = 0.95\n",
    "EPS_START = 1\n",
    "EPS_END = 0\n",
    "EPS_STOP_EPISODE = 500\n",
    "TARGET_UPDATE = 1 # How often we update the target network \n",
    "\n",
    "# Get number of actions from gym action space\n",
    "n_actions = 5\n",
    "\n",
    "policy_net = DQN(n_actions).to(device)\n",
    "target_net = DQN(n_actions).to(device)\n",
    "target_net.load_state_dict(policy_net.state_dict())\n",
    "target_net.eval()\n",
    "\n",
    "optimizer = torch.optim.Adam(policy_net.parameters(), lr=0.001)\n",
    "criterion = nn.MSELoss()\n",
    "memory = ReplayMemory(30000)\n",
    "\n",
    "steps_done = 0\n",
    "eps_threshold = (EPS_START - EPS_END) / EPS_STOP_EPISODE\n",
    "eps = EPS_START\n",
    "\n",
    "\n",
    "def select_action(next_states):\n",
    "    \"\"\"Follows Epsilon-Greedy selection strategy\n",
    "    \"\"\"\n",
    "    global steps_done\n",
    "    global eps_threshold\n",
    "    global eps\n",
    "    \n",
    "    sample = random.random()\n",
    "    \n",
    "    \n",
    "    steps_done += 1\n",
    "    \n",
    "    next_states = [torch.from_numpy(next_state) for next_state in next_states]\n",
    "    index = None\n",
    "    if sample > eps: # Greedy\n",
    "        with torch.no_grad():\n",
    "            index = randint(0, len(next_states) - 1)\n",
    "    else:\n",
    "        next_states = torch.stack(next_states).type(torch.FloatTensor)\n",
    "        predictions = policy_net(next_states)[:, 0]\n",
    "        index = torch.argmax(predictions).item()\n",
    "    \n",
    "    if eps > EPS_END:\n",
    "        eps -= eps_threshold\n",
    "    \n",
    "    return index\n"
   ]
  },
  {
   "cell_type": "code",
   "execution_count": 207,
   "metadata": {},
   "outputs": [],
   "source": [
    "import math\n",
    "import random\n",
    "from itertools import count\n",
    "\n",
    "def optimize_model():\n",
    "    if len(memory) < BATCH_SIZE:\n",
    "        return\n",
    "    transitions = memory.sample(BATCH_SIZE) # Sample a batch from memory\n",
    "    \n",
    "    batch = Transition(*zip(*transitions))\n",
    "    \n",
    "    non_final_mask = torch.tensor(tuple(map(lambda s: s is not None,\n",
    "                                          batch.next_state)), device=device, dtype=torch.bool)\n",
    "    \n",
    "    non_final_next_states = torch.cat([s for s in batch.next_state\n",
    "                                                if s is not None])\n",
    "    state_batch = torch.cat(batch.state)\n",
    "    reward_batch = torch.cat(batch.reward)\n",
    "    \n",
    "\n",
    "    \n",
    "    next_states = policy_net(state_batch)\n",
    "\n",
    "\n",
    "    # Compute Q(s_t, a) - the model computes Q(s_t), then we select the\n",
    "    # columns of actions taken. These are the actions which would've been taken\n",
    "    # for each batch state according to policy_net\n",
    "    \n",
    "    \n",
    "    state_action_values = policy_net(state_batch)\n",
    "    \n",
    "\n",
    "    # Compute V(s_{t+1}) for all next states.\n",
    "    # Expected values of actions for non_final_next_states are computed based\n",
    "    # on the \"older\" target_net; selecting their best reward with max(1)[0].\n",
    "    # This is merged based on the mask, such that we'll have either the expected\n",
    "    # state value or 0 in case the state was final.\n",
    "    \n",
    "    next_state_values = torch.zeros(BATCH_SIZE, device=device)\n",
    "    next_state_values[non_final_mask] = target_net(non_final_next_states).max(1)[0].detach()\n",
    "    \n",
    "\n",
    "    \n",
    "    # Compute the expected Q values using bellman equation\n",
    "    expected_state_action_values = (next_state_values * GAMMA) + reward_batch\n",
    "\n",
    "    # Compute MSE Loss\n",
    "    loss = criterion(state_action_values, expected_state_action_values.unsqueeze(1))\n",
    "\n",
    "    # Optimize the model\n",
    "    optimizer.zero_grad()\n",
    "    loss.backward()\n",
    "    optimizer.step()"
   ]
  },
  {
   "cell_type": "code",
   "execution_count": 208,
   "metadata": {},
   "outputs": [
    {
     "name": "stdout",
     "output_type": "stream",
     "text": [
      "17\n",
      "17\n",
      "17\n",
      "17\n",
      "17\n",
      "[[10 10 10  0  0  0  0  0  0  0  0  0  0 10 10 10]\n",
      " [10 10 10  4  4  4  0  0  0  0  0  0  0 10 10 10]\n",
      " [10 10 10  0  4  0  0  0  0  0  0  0  0 10 10 10]\n",
      " [10 10 10  0  0  0  0  0  0  0  0  0  0 10 10 10]\n",
      " [10 10 10  0  0  0  0  3  0  0  0  0  0 10 10 10]\n",
      " [10 10 10  0  0  3  3  3  0  0  0  0  0 10 10 10]\n",
      " [10 10 10  0  0  0  0  6  0  0  0  0  0 10 10 10]\n",
      " [10 10 10  0  0  0  0  6  6  0  0  0  0 10 10 10]\n",
      " [10 10 10  0  0  0  0  0  6  1  1  1  1 10 10 10]\n",
      " [10 10 10  0  0  0  1  1  1  1  0  0  0 10 10 10]\n",
      " [10 10 10  0  2  2  0  0  2  0  0  0  0 10 10 10]\n",
      " [10 10 10  0  2  0  0  0  2  2  2  0  0 10 10 10]\n",
      " [10 10 10  0  2  0  0  0  4  0  0  0  0 10 10 10]\n",
      " [10 10 10  1  1  1  1  4  4  4  0  0  0 10 10 10]\n",
      " [10 10 10  5  5  0  0  2  0  0  0  2  2 10 10 10]\n",
      " [10 10 10  0  5  5  0  2  2  2  0  2  0 10 10 10]\n",
      " [10 10 10  0  7  7  0  0  6  6  0  2  0 10 10 10]\n",
      " [10 10 10  0  7  7  0  6  6  0  7  7  0 10 10 10]\n",
      " [10 10 10  0  0  6  6  2  0  0  7  7  0 10 10 10]\n",
      " [10 10 10  0  6  6  0  2  2  2  0  3  0 10 10 10]\n",
      " [10 10 10  0  0  6  0  0  5  0  0  3  0 10 10 10]\n",
      " [10 10 10  0  0  6  6  5  5  0  0  3  3 10 10 10]\n",
      " [10 10 10  0  5  0  6  5  0  7  7  2  0 10 10 10]\n",
      " [10 10 10  5  5  0  3  3  3  7  7  2  0 10 10 10]\n",
      " [10 10 10  5  0  0  3  0  0  0  2  2  0 10 10 10]\n",
      " [10 10 10 10 10 10 10 10 10 10 10 10 10 10 10 10]\n",
      " [10 10 10 10 10 10 10 10 10 10 10 10 10 10 10 10]\n",
      " [10 10 10 10 10 10 10 10 10 10 10 10 10 10 10 10]]\n",
      "17\n",
      "17\n",
      "[[10 10 10  0  0  0  0  0  0  0  0  0  0 10 10 10]\n",
      " [10 10 10  0  3  3  0  0  0  0  0  0  0 10 10 10]\n",
      " [10 10 10  0  0  3  0  0  0  0  0  0  0 10 10 10]\n",
      " [10 10 10  0  0  3  0  0  0  0  0  0  0 10 10 10]\n",
      " [10 10 10  0  0  0  0  0  0  0  0  4  0 10 10 10]\n",
      " [10 10 10  0  0  4  0  0  0  0  4  4  0 10 10 10]\n",
      " [10 10 10  0  4  4  0  0  0  0  0  4  0 10 10 10]\n",
      " [10 10 10  0  0  4  0  0  1  0  0  1  0 10 10 10]\n",
      " [10 10 10  0  0  5  0  2  1  0  0  1  0 10 10 10]\n",
      " [10 10 10  0  5  5  0  2  1  0  0  1  0 10 10 10]\n",
      " [10 10 10  0  5  0  2  2  1  2  0  1  0 10 10 10]\n",
      " [10 10 10  3  3  3  0  7  7  2  2  2  0 10 10 10]\n",
      " [10 10 10  3  0  0  0  7  7  6  6  0  0 10 10 10]\n",
      " [10 10 10  4  0  0  0  0  6  6  0  1  0 10 10 10]\n",
      " [10 10 10  4  4  0  0  0  2  2  0  1  0 10 10 10]\n",
      " [10 10 10  4  6  0  0  0  2  0  0  1  0 10 10 10]\n",
      " [10 10 10  0  6  6  0  0  2  0  0  1  3 10 10 10]\n",
      " [10 10 10  0  0  6  0  0  7  7  3  3  3 10 10 10]\n",
      " [10 10 10  0  6  6  0  4  7  7  0  6  6 10 10 10]\n",
      " [10 10 10  6  6  0  0  4  4  0  6  6  0 10 10 10]\n",
      " [10 10 10  4  4  4  0  4  0  1  1  1  1 10 10 10]\n",
      " [10 10 10  0  4  3  3  3  0  0  0  0  5 10 10 10]\n",
      " [10 10 10  0  0  3  0  6  0  0  3  5  5 10 10 10]\n",
      " [10 10 10  0  3  3  3  6  6  0  3  5  0 10 10 10]\n",
      " [10 10 10  0  3  0  0  0  6  0  3  3  0 10 10 10]\n",
      " [10 10 10 10 10 10 10 10 10 10 10 10 10 10 10 10]\n",
      " [10 10 10 10 10 10 10 10 10 10 10 10 10 10 10 10]\n",
      " [10 10 10 10 10 10 10 10 10 10 10 10 10 10 10 10]]\n",
      "17\n",
      "[[10 10 10  0  0  0  0  0  0  0  0  0  0 10 10 10]\n",
      " [10 10 10  0  0  0  6  0  0  0  0  0  0 10 10 10]\n",
      " [10 10 10  0  0  0  6  6  0  0  0  0  0 10 10 10]\n",
      " [10 10 10  0  0  0  0  6  0  0  0  0  0 10 10 10]\n",
      " [10 10 10  0  0  5  0  0  0  0  0  0  0 10 10 10]\n",
      " [10 10 10  0  5  5  0  0  0  0  0  0  0 10 10 10]\n",
      " [10 10 10  0  5  6  6  0  0  0  0  0  0 10 10 10]\n",
      " [10 10 10  0  6  6  0  0  0  0  0  0  0 10 10 10]\n",
      " [10 10 10  0  0  6  0  0  0  0  0  0  0 10 10 10]\n",
      " [10 10 10  0  0  6  6  0  0  0  0  0  0 10 10 10]\n",
      " [10 10 10  7  7  2  6  0  0  0  0  0  0 10 10 10]\n",
      " [10 10 10  7  7  2  0  0  0  0  0  0  0 10 10 10]\n",
      " [10 10 10  0  2  2  0  0  0  0  0  0  0 10 10 10]\n",
      " [10 10 10  0  0  1  0  0  0  0  3  3  3 10 10 10]\n",
      " [10 10 10  0  0  1  0  0  0  0  3  0  0 10 10 10]\n",
      " [10 10 10  0  0  1  7  7  0  0  6  6  0 10 10 10]\n",
      " [10 10 10  0  0  1  7  7  0  6  6  0  0 10 10 10]\n",
      " [10 10 10  0  0  5  5  0  0  0  4  0  0 10 10 10]\n",
      " [10 10 10  0  0  0  5  5  4  4  4  0  0 10 10 10]\n",
      " [10 10 10  0  0  0  0  4  4  4  4  4  0 10 10 10]\n",
      " [10 10 10  0  0  0  6  6  0  0  0  4  4 10 10 10]\n",
      " [10 10 10  0  0  6  6  0  0  0  0  4  1 10 10 10]\n",
      " [10 10 10  0  0  0  5  0  0  0  0  0  1 10 10 10]\n",
      " [10 10 10  0  0  5  5  0  0  3  0  0  1 10 10 10]\n",
      " [10 10 10  0  0  5  0  3  3  3  0  0  1 10 10 10]\n",
      " [10 10 10 10 10 10 10 10 10 10 10 10 10 10 10 10]\n",
      " [10 10 10 10 10 10 10 10 10 10 10 10 10 10 10 10]\n",
      " [10 10 10 10 10 10 10 10 10 10 10 10 10 10 10 10]]\n"
     ]
    },
    {
     "ename": "KeyboardInterrupt",
     "evalue": "",
     "output_type": "error",
     "traceback": [
      "\u001b[0;31m---------------------------------------------------------------------------\u001b[0m",
      "\u001b[0;31mKeyboardInterrupt\u001b[0m                         Traceback (most recent call last)",
      "\u001b[0;32m<ipython-input-208-eb34a65151ba>\u001b[0m in \u001b[0;36m<module>\u001b[0;34m\u001b[0m\n\u001b[1;32m     16\u001b[0m     \u001b[0;32mfor\u001b[0m \u001b[0mt\u001b[0m \u001b[0;32min\u001b[0m \u001b[0mcount\u001b[0m\u001b[0;34m(\u001b[0m\u001b[0;34m)\u001b[0m\u001b[0;34m:\u001b[0m\u001b[0;34m\u001b[0m\u001b[0;34m\u001b[0m\u001b[0m\n\u001b[1;32m     17\u001b[0m \u001b[0;34m\u001b[0m\u001b[0m\n\u001b[0;32m---> 18\u001b[0;31m         \u001b[0mnext_state_features\u001b[0m \u001b[0;34m=\u001b[0m \u001b[0mcalculate_next_state_features\u001b[0m\u001b[0;34m(\u001b[0m\u001b[0mnext_states\u001b[0m\u001b[0;34m)\u001b[0m\u001b[0;34m\u001b[0m\u001b[0;34m\u001b[0m\u001b[0m\n\u001b[0m\u001b[1;32m     19\u001b[0m \u001b[0;34m\u001b[0m\u001b[0m\n\u001b[1;32m     20\u001b[0m         \u001b[0mnext_state_index\u001b[0m \u001b[0;34m=\u001b[0m \u001b[0mselect_action\u001b[0m\u001b[0;34m(\u001b[0m\u001b[0mnext_state_features\u001b[0m\u001b[0;34m)\u001b[0m\u001b[0;34m\u001b[0m\u001b[0;34m\u001b[0m\u001b[0m\n",
      "\u001b[0;32m<ipython-input-79-e71dc07ed11e>\u001b[0m in \u001b[0;36mcalculate_next_state_features\u001b[0;34m(next_states)\u001b[0m\n\u001b[1;32m      2\u001b[0m     \u001b[0mnext_state_features\u001b[0m \u001b[0;34m=\u001b[0m \u001b[0;34m[\u001b[0m\u001b[0;34m]\u001b[0m\u001b[0;34m\u001b[0m\u001b[0;34m\u001b[0m\u001b[0m\n\u001b[1;32m      3\u001b[0m     \u001b[0;32mfor\u001b[0m \u001b[0mstate\u001b[0m \u001b[0;32min\u001b[0m \u001b[0mnext_states\u001b[0m\u001b[0;34m:\u001b[0m\u001b[0;34m\u001b[0m\u001b[0;34m\u001b[0m\u001b[0m\n\u001b[0;32m----> 4\u001b[0;31m         \u001b[0mfeatures\u001b[0m \u001b[0;34m=\u001b[0m \u001b[0mcalculate_features\u001b[0m\u001b[0;34m(\u001b[0m\u001b[0mstate\u001b[0m\u001b[0;34m.\u001b[0m\u001b[0mplayers\u001b[0m\u001b[0;34m[\u001b[0m\u001b[0;36m0\u001b[0m\u001b[0;34m]\u001b[0m\u001b[0;34m)\u001b[0m\u001b[0;34m\u001b[0m\u001b[0;34m\u001b[0m\u001b[0m\n\u001b[0m\u001b[1;32m      5\u001b[0m         \u001b[0mnext_state_features\u001b[0m\u001b[0;34m.\u001b[0m\u001b[0mappend\u001b[0m\u001b[0;34m(\u001b[0m\u001b[0mfeatures\u001b[0m\u001b[0;34m)\u001b[0m\u001b[0;34m\u001b[0m\u001b[0;34m\u001b[0m\u001b[0m\n\u001b[1;32m      6\u001b[0m     \u001b[0;32mreturn\u001b[0m \u001b[0mnext_state_features\u001b[0m\u001b[0;34m\u001b[0m\u001b[0;34m\u001b[0m\u001b[0m\n",
      "\u001b[0;32m<ipython-input-78-7d3e3a9ce3c2>\u001b[0m in \u001b[0;36mcalculate_features\u001b[0;34m(player)\u001b[0m\n\u001b[1;32m      4\u001b[0m     \u001b[0mboard\u001b[0m \u001b[0;34m=\u001b[0m \u001b[0mplayer\u001b[0m\u001b[0;34m.\u001b[0m\u001b[0mboard\u001b[0m\u001b[0;34m\u001b[0m\u001b[0;34m\u001b[0m\u001b[0m\n\u001b[1;32m      5\u001b[0m     \u001b[0mnum_lines_cleared\u001b[0m \u001b[0;34m=\u001b[0m \u001b[0mplayer\u001b[0m\u001b[0;34m.\u001b[0m\u001b[0mnum_lines_cleared\u001b[0m\u001b[0;34m\u001b[0m\u001b[0;34m\u001b[0m\u001b[0m\n\u001b[0;32m----> 6\u001b[0;31m     \u001b[0mnum_holes\u001b[0m \u001b[0;34m=\u001b[0m \u001b[0mget_holes\u001b[0m\u001b[0;34m(\u001b[0m\u001b[0mboard\u001b[0m\u001b[0;34m)\u001b[0m\u001b[0;34m\u001b[0m\u001b[0;34m\u001b[0m\u001b[0m\n\u001b[0m\u001b[1;32m      7\u001b[0m     \u001b[0mtotal_bumpiness\u001b[0m\u001b[0;34m,\u001b[0m \u001b[0mtotal_height\u001b[0m \u001b[0;34m=\u001b[0m \u001b[0mget_bumpiness_and_height\u001b[0m\u001b[0;34m(\u001b[0m\u001b[0mboard\u001b[0m\u001b[0;34m)\u001b[0m\u001b[0;34m\u001b[0m\u001b[0;34m\u001b[0m\u001b[0m\n\u001b[1;32m      8\u001b[0m \u001b[0;34m\u001b[0m\u001b[0m\n",
      "\u001b[0;32m<ipython-input-76-e2a71e821935>\u001b[0m in \u001b[0;36mget_holes\u001b[0;34m(board)\u001b[0m\n\u001b[1;32m      3\u001b[0m     \u001b[0;32mfor\u001b[0m \u001b[0mcol\u001b[0m \u001b[0;32min\u001b[0m \u001b[0mrange\u001b[0m\u001b[0;34m(\u001b[0m\u001b[0;36m3\u001b[0m\u001b[0;34m,\u001b[0m \u001b[0mboard\u001b[0m\u001b[0;34m.\u001b[0m\u001b[0mshape\u001b[0m\u001b[0;34m[\u001b[0m\u001b[0;36m1\u001b[0m\u001b[0;34m]\u001b[0m\u001b[0;34m-\u001b[0m\u001b[0;36m3\u001b[0m\u001b[0;34m)\u001b[0m\u001b[0;34m:\u001b[0m\u001b[0;34m\u001b[0m\u001b[0;34m\u001b[0m\u001b[0m\n\u001b[1;32m      4\u001b[0m         \u001b[0mrow\u001b[0m \u001b[0;34m=\u001b[0m \u001b[0;36m0\u001b[0m\u001b[0;34m\u001b[0m\u001b[0;34m\u001b[0m\u001b[0m\n\u001b[0;32m----> 5\u001b[0;31m         \u001b[0;32mwhile\u001b[0m \u001b[0mrow\u001b[0m \u001b[0;34m<\u001b[0m \u001b[0mboard\u001b[0m\u001b[0;34m.\u001b[0m\u001b[0mshape\u001b[0m\u001b[0;34m[\u001b[0m\u001b[0;36m0\u001b[0m\u001b[0;34m]\u001b[0m \u001b[0;34m-\u001b[0m \u001b[0;36m3\u001b[0m \u001b[0;32mand\u001b[0m \u001b[0mboard\u001b[0m\u001b[0;34m[\u001b[0m\u001b[0mrow\u001b[0m\u001b[0;34m]\u001b[0m\u001b[0;34m[\u001b[0m\u001b[0mcol\u001b[0m\u001b[0;34m]\u001b[0m \u001b[0;34m==\u001b[0m \u001b[0;36m0\u001b[0m\u001b[0;34m:\u001b[0m\u001b[0;34m\u001b[0m\u001b[0;34m\u001b[0m\u001b[0m\n\u001b[0m\u001b[1;32m      6\u001b[0m             \u001b[0mrow\u001b[0m \u001b[0;34m+=\u001b[0m \u001b[0;36m1\u001b[0m\u001b[0;34m\u001b[0m\u001b[0;34m\u001b[0m\u001b[0m\n\u001b[1;32m      7\u001b[0m         \u001b[0;32mwhile\u001b[0m \u001b[0mrow\u001b[0m \u001b[0;34m<\u001b[0m \u001b[0mboard\u001b[0m\u001b[0;34m.\u001b[0m\u001b[0mshape\u001b[0m\u001b[0;34m[\u001b[0m\u001b[0;36m0\u001b[0m\u001b[0;34m]\u001b[0m \u001b[0;34m-\u001b[0m \u001b[0;36m3\u001b[0m\u001b[0;34m:\u001b[0m\u001b[0;34m\u001b[0m\u001b[0;34m\u001b[0m\u001b[0m\n",
      "\u001b[0;31mKeyboardInterrupt\u001b[0m: "
     ]
    }
   ],
   "source": [
    "time_lasted = []\n",
    "num_episodes = 3000\n",
    "\n",
    "for i_episode in range(num_episodes):\n",
    "    # Initialize the environment and state\n",
    "    custom_gym.reset()\n",
    "    action = {\n",
    "        \"reward\": 0,\n",
    "        \"state\": deepcopy(custom_gym.state)\n",
    "    }\n",
    "\n",
    "    observations, reward, done, _ = custom_gym.step(action)\n",
    "\n",
    "    current_state = custom_gym.state\n",
    "    next_states, next_state_rewards = observations\n",
    "    for t in count():\n",
    "\n",
    "        next_state_features = calculate_next_state_features(next_states)\n",
    "        \n",
    "        next_state_index = select_action(next_state_features)\n",
    "        \n",
    "        \n",
    "        action = {\n",
    "            \"reward\" : next_state_rewards[next_state_index],\n",
    "            \"state\" : next_states[next_state_index]\n",
    "        }\n",
    "        \n",
    "\n",
    "        new_next_states, reward, done, _ = custom_gym.step(action)\n",
    "        \n",
    "        if reward != 1:\n",
    "            print(reward)\n",
    "        \n",
    "        reward = torch.tensor([reward], device=device).type(torch.FloatTensor)\n",
    "        \n",
    "\n",
    "        \n",
    "        # Observe new state\n",
    "#         if not done:\n",
    "#             next_state = torch.from_numpy(calculate_features(obs)).type(torch.FloatTensor)\n",
    "#             save_next_state = torch.unsqueeze(next_state, 0)\n",
    "#         else:\n",
    "#             next_state = None\n",
    "#             save_next_state = None\n",
    "\n",
    "        if not done:\n",
    "            save_next_state = torch.unsqueeze(torch.tensor(calculate_features(next_states[next_state_index].players[0])).type(torch.FloatTensor), 0) \n",
    "        else:\n",
    "            save_next_state = None\n",
    "            \n",
    "\n",
    "        # Store the transition in memory\n",
    "        memory.push(\n",
    "            torch.unsqueeze(torch.tensor(calculate_features(current_state.players[0])).type(torch.FloatTensor), 0), \n",
    "            action, \n",
    "            save_next_state, \n",
    "            reward\n",
    "        )\n",
    "\n",
    "        # Move to the next state\n",
    "        current_state = next_states[next_state_index]\n",
    "        next_states, next_state_rewards = new_next_states\n",
    "\n",
    "        # Perform one step of the optimization (on the policy network)\n",
    "        optimize_model()\n",
    "        \n",
    "\n",
    "        if done:\n",
    "            time_lasted.append(t)\n",
    "            if i_episode % 100 == 0 and i_episode != 0:\n",
    "                frame = custom_gym.render(mode=\"debug\")\n",
    "                print(frame[0])\n",
    "            break\n",
    "    # Update the target network, copying all weights and biases in DQN\n",
    "    if i_episode % TARGET_UPDATE == 0:\n",
    "        target_net.load_state_dict(policy_net.state_dict())\n",
    "\n",
    "\n",
    "print('Complete')\n",
    "custom_gym.close()"
   ]
  },
  {
   "cell_type": "code",
   "execution_count": 191,
   "metadata": {},
   "outputs": [
    {
     "data": {
      "image/png": "[encoded data removed]",
      "text/plain": [
       "<Figure size 432x288 with 1 Axes>"
      ]
     },
     "metadata": {
      "needs_background": "light"
     },
     "output_type": "display_data"
    }
   ],
   "source": [
    "import matplotlib.pyplot as plt\n",
    "\n",
    "plt.figure()\n",
    "xs = [i for i in range(1, 3001)]\n",
    "plt.plot(xs, time_lasted)\n",
    "plt.xlabel(\"epochs\")\n",
    "plt.ylabel(\"time lasted\")\n",
    "plt.show()"
   ]
  },
  {
   "cell_type": "code",
   "execution_count": 178,
   "metadata": {},
   "outputs": [
    {
     "name": "stdout",
     "output_type": "stream",
     "text": [
      "[157, 76, 43, 36, 65, 45, 42, 55, 50, 36, 51, 38, 38, 34, 28, 34, 37, 30, 29, 34, 21, 30, 28, 30, 27, 31, 28, 21, 24, 39, 28, 25, 27, 25, 23, 25, 22, 19, 32, 26, 22, 27, 22, 26, 17, 23, 20, 25, 23, 19, 19, 21, 17, 21, 18, 25, 21, 19, 19, 14, 18, 16, 20, 17, 21, 20, 23, 22, 27, 14, 23, 12, 11, 13, 20, 16, 21, 17, 22, 19, 23, 18, 16, 19, 23, 15, 25, 20, 16, 15, 21, 14, 19, 20, 19, 22, 18, 19, 23, 20, 19, 19, 14, 20, 24, 13, 18, 16, 11, 18, 24, 16, 18, 15, 22, 15, 19, 26, 16, 22, 23, 19, 25, 19, 21, 21, 20, 20, 22, 19, 18, 19, 24, 27, 17, 18, 21, 28, 19, 24, 18, 10, 21, 20, 19, 17, 19, 8, 14, 17, 16, 22, 13, 21, 13, 17, 22, 18, 24, 25, 20, 19, 17, 17, 18, 18, 18, 18, 24, 21, 18, 22, 21, 25, 24, 24, 21, 14, 14, 18, 18, 23, 16, 18, 13, 14, 20, 19, 20, 18, 11, 22, 27, 22, 19, 25, 20, 23, 22, 15, 16, 20, 18, 20, 21, 18, 20, 16, 16, 14, 22, 21, 16, 17, 18, 18, 22, 16, 19, 21, 18, 12, 24, 21, 17, 16, 23, 17, 15, 21, 22, 24, 23, 18, 19, 20, 17, 13, 16, 13, 16, 21, 19, 16, 19, 21, 17, 16, 16, 19, 22, 13, 21, 25, 24, 16, 20, 20, 14, 23, 13, 20, 18, 20, 21, 18, 20, 24, 16, 17, 15, 23, 20, 20, 14, 17, 20, 19, 17, 16, 19, 15, 16, 14, 22, 19, 17, 20, 20, 21, 21, 20, 18, 22, 21, 19, 15, 25, 19, 12, 22, 14, 21, 22, 22, 12, 19, 18, 24, 19, 23, 23, 22, 20, 17, 20, 19, 27, 17, 18, 18, 19, 23, 17, 15, 13, 18, 20, 23, 19, 19, 21, 15, 21, 16, 17, 16, 23, 20, 25, 19, 16, 25, 21, 23, 19, 22, 13, 25, 21, 19, 21, 12, 12, 23, 18, 16, 14, 18, 22, 20, 15, 27, 15, 20, 14, 17, 19, 17, 19, 26, 21, 22, 21, 19, 23, 26, 18, 17, 25, 24, 17, 23, 18, 16, 22, 16, 27, 20, 24, 18, 20, 26, 23, 19, 18, 22, 18, 20, 18, 19, 23, 20, 19, 19, 18, 22, 20, 17, 19, 15, 16, 18, 13, 25, 25, 19, 18, 24, 23, 15, 25, 21, 20, 25, 17, 15, 17, 17, 17, 19, 18, 24, 16, 20, 19, 18, 20, 22, 24, 22, 21, 23, 18, 18, 15, 17, 21, 20, 15, 20, 16, 23, 13, 17, 25, 22, 17, 23, 21, 23, 18, 21, 22, 18, 16, 18, 19, 20, 14, 21, 20, 16, 21, 18, 21, 25, 13, 14, 14, 16, 20, 17, 22, 20, 23, 16, 13, 20, 17, 21, 14, 19, 24, 24, 16, 19, 23, 23, 18, 25, 22, 22, 19, 21, 21, 17, 23, 16, 18, 24, 15, 18, 24, 19, 21, 20, 22, 20, 18, 24, 17, 19, 15, 24, 20, 24, 19, 22, 15, 16, 20, 17, 18, 25, 16, 24, 15, 17, 14, 18, 23, 15, 22, 18, 23, 18, 23, 18, 13, 23, 22, 21, 15, 22, 13, 21, 20, 24, 18, 18, 25, 23, 22, 22, 19, 17, 19, 23, 12, 22, 19, 20, 23, 11, 20, 14, 17, 14, 24, 17, 19, 23, 22, 18, 20, 17, 21, 13, 23, 18, 17, 27, 18, 23, 20, 18, 21, 16, 25, 22, 24, 18, 21, 18, 21, 18, 19, 17, 17, 13, 19, 12, 24, 19, 16, 16, 19, 23, 24, 19, 21, 21, 16, 18, 24, 24, 14, 23, 22, 19, 19, 17, 20, 19, 16, 21, 18, 23, 18, 18, 24, 23, 17, 23, 21, 15, 14, 20, 18, 18, 11, 21, 12, 19, 20, 17, 16, 19, 15, 18, 17, 21, 23, 22, 25, 20, 20, 16, 24, 21, 25, 19, 12, 15, 16, 17, 23, 21, 16, 13, 18, 19, 17, 21, 19, 24, 19, 24, 16, 14, 17, 17, 15, 17, 24, 17, 14, 24, 23, 13, 18, 19, 21, 19, 16, 18, 17, 22, 17, 24, 23, 18, 21, 14, 20, 28, 17, 22, 22, 20, 30, 25, 18, 18, 23, 14, 23, 25, 23, 13, 14, 18, 14, 19, 17, 20, 22, 18, 21, 15, 19, 16, 22, 20, 12, 21, 19, 19, 21, 19, 17, 19, 27, 21, 25, 19, 21, 18, 18, 15, 17, 12, 27, 16, 29, 21, 19, 17, 25, 20, 15, 14, 16, 19, 19, 19, 17, 21, 20, 12, 22, 22]\n"
     ]
    }
   ],
   "source": [
    "print(time_lasted)"
   ]
  },
  {
   "cell_type": "code",
   "execution_count": null,
   "metadata": {},
   "outputs": [],
   "source": []
  }
 ],
 "metadata": {
  "kernelspec": {
   "display_name": "RL",
   "language": "python",
   "name": "rl"
  },
  "language_info": {
   "codemirror_mode": {
    "name": "ipython",
    "version": 3
   },
   "file_extension": ".py",
   "mimetype": "text/x-python",
   "name": "python",
   "nbconvert_exporter": "python",
   "pygments_lexer": "ipython3",
   "version": "3.6.13"
  }
 },
 "nbformat": 4,
 "nbformat_minor": 4
}
